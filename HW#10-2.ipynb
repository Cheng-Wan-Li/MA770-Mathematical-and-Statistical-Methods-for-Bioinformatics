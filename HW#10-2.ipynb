{
 "cells": [
  {
   "cell_type": "markdown",
   "metadata": {},
   "source": [
    "# MA770 Mathematical and Statistical Methods of Bioinformatics\n",
    "# Problem Set 10.2 (b)\n",
    "### Cheng, Wanli U31865818"
   ]
  },
  {
   "cell_type": "markdown",
   "metadata": {},
   "source": [
    "# Gene Expression Array Clustering"
   ]
  },
  {
   "cell_type": "markdown",
   "metadata": {},
   "source": [
    "## (b) $k$-means"
   ]
  },
  {
   "cell_type": "code",
   "execution_count": 434,
   "metadata": {},
   "outputs": [],
   "source": [
    "# Load modules we'll need.\n",
    "import xlsxwriter\n",
    "import pandas as pd\n",
    "import matplotlib.pyplot as plt\n",
    "import numpy as np\n",
    "from sklearn.cluster import KMeans"
   ]
  },
  {
   "cell_type": "markdown",
   "metadata": {},
   "source": [
    "### Import the Data"
   ]
  },
  {
   "cell_type": "code",
   "execution_count": 1,
   "metadata": {},
   "outputs": [],
   "source": [
    "# Import the Golub datasets\n",
    "\n",
    "D = open('PS10.txt', 'r')\n",
    "Data = D.readlines()"
   ]
  },
  {
   "cell_type": "code",
   "execution_count": 436,
   "metadata": {},
   "outputs": [],
   "source": [
    "# Generate the dataset such that each feature vector correspond to a row in 16 by 978 matrix X.\n",
    "\n",
    "def X(D):\n",
    "    M=np.size(D)\n",
    "    XT=np.zeros((M-1,16))\n",
    "    for m in np.arange(M):\n",
    "        if m>0:\n",
    "            for n in np.arange(16):\n",
    "                XT[(m-1,n)]=XT[(m-1,n)]+float(Data[m].split()[-16:][n]) #The last 16 numbers of each line is the indormation we want\n",
    "    return np.transpose(XT) #The original matrix takes each vector as a column, we transpose it so that each feature vectors are rows of X.  "
   ]
  },
  {
   "cell_type": "code",
   "execution_count": 437,
   "metadata": {},
   "outputs": [],
   "source": [
    "# Randomize the matrix X.\n",
    "\n",
    "def R(X):\n",
    "    (M,N)=np.shape(X)\n",
    "    Rindex=np.random.choice(16,16,replace=False)\n",
    "    R=np.zeros((M,N))\n",
    "    for m in np.arange(M):\n",
    "        R[m]=R[m]+X[Rindex[m]]\n",
    "    return R"
   ]
  },
  {
   "cell_type": "code",
   "execution_count": 438,
   "metadata": {},
   "outputs": [],
   "source": [
    "def ReAr(X,l):\n",
    "    (M,N)=np.shape(X)\n",
    "    RAX=np.zeros((M,N))\n",
    "    I1=[]\n",
    "    I0=[]\n",
    "    for m in np.arange(16):\n",
    "        if l[m] == 1:\n",
    "            I1=np.append(I1,[m])\n",
    "        else:\n",
    "            I0=np.append(I0,[m])\n",
    "    k=np.size(I1)\n",
    "    for m in np.arange(16):\n",
    "        if m<k:\n",
    "            RAX[m]=RAX[m]+X[int(I1[m])]\n",
    "        else:\n",
    "            RAX[m]=RAX[m]+X[int(I0[m-k])]\n",
    "    return RAX"
   ]
  },
  {
   "cell_type": "code",
   "execution_count": 439,
   "metadata": {},
   "outputs": [],
   "source": [
    "X=X(Data)\n",
    "RX=R(X)"
   ]
  },
  {
   "cell_type": "code",
   "execution_count": 441,
   "metadata": {},
   "outputs": [
    {
     "data": {
      "text/plain": [
       "(16, 978)"
      ]
     },
     "execution_count": 441,
     "metadata": {},
     "output_type": "execute_result"
    }
   ],
   "source": [
    "np.shape(X)"
   ]
  },
  {
   "cell_type": "code",
   "execution_count": 440,
   "metadata": {},
   "outputs": [],
   "source": [
    "workbook = xlsxwriter.Workbook('arrays.xlsx')\n",
    "worksheet = workbook.add_worksheet()\n",
    "\n",
    "array = X\n",
    "\n",
    "row = 0\n",
    "\n",
    "for col, data in enumerate(array):\n",
    "    worksheet.write_column(row, col, data)\n",
    "\n",
    "workbook.close()"
   ]
  },
  {
   "cell_type": "markdown",
   "metadata": {},
   "source": [
    "### Heat Map"
   ]
  },
  {
   "cell_type": "markdown",
   "metadata": {},
   "source": [
    "**Question：** Why would we then expect a heat map like this（red-white squares pattern）？"
   ]
  },
  {
   "cell_type": "markdown",
   "metadata": {},
   "source": [
    "**Answer：** By definition of heat map, we would expect that the datapoints in the same clusters have closer distance, therefore, if we use kronecker delta as the distance function, the two red blocks in the principal diagonal simply represents the two clusters we classified. And white blocks the cross terms."
   ]
  },
  {
   "cell_type": "markdown",
   "metadata": {},
   "source": [
    "**Question：** In practice, it's more likely to get a map like this (the ckecked pattern), why?"
   ]
  },
  {
   "cell_type": "markdown",
   "metadata": {},
   "source": [
    "**Answer：** Because, without sort the data beforehand, we may expect that the column of the matrix may denote a random sequence of points between two clusters(e.g., $\\mathbf{v}=(1,1,1,2,2,1,1,1,2,1,2)$. Then we would expect several smaller blocks in the principle diagonal, and some \"pink\"cross terms existence in the graph. "
   ]
  },
  {
   "cell_type": "code",
   "execution_count": 426,
   "metadata": {},
   "outputs": [],
   "source": [
    "def D(X):\n",
    "    D=np.zeros((16,16))\n",
    "    for m in np.arange(16):\n",
    "        for n in np.arange(16):\n",
    "            D[(m,n)]=np.linalg.norm((X[m]-X[n]),ord=1)\n",
    "    return D"
   ]
  },
  {
   "cell_type": "code",
   "execution_count": 427,
   "metadata": {},
   "outputs": [],
   "source": [
    "DisX=D(X)\n",
    "DisRX=D(RX)"
   ]
  },
  {
   "cell_type": "code",
   "execution_count": 428,
   "metadata": {},
   "outputs": [
    {
     "data": {
      "image/png": "[encoded data removed]",
      "text/plain": [
       "<Figure size 432x288 with 1 Axes>"
      ]
     },
     "metadata": {
      "needs_background": "light"
     },
     "output_type": "display_data"
    }
   ],
   "source": [
    "plt.imshow(DisX, cmap='hot', interpolation='nearest')\n",
    "plt.show()"
   ]
  },
  {
   "cell_type": "code",
   "execution_count": 429,
   "metadata": {},
   "outputs": [
    {
     "data": {
      "text/plain": [
       "array([0, 0, 0, 0, 0, 0, 0, 0, 1, 1, 1, 1, 1, 1, 1, 1], dtype=int32)"
      ]
     },
     "execution_count": 429,
     "metadata": {},
     "output_type": "execute_result"
    }
   ],
   "source": [
    "kmeans = KMeans(n_clusters=2,init='random',tol=0.0001,n_init=16).fit(X)\n",
    "kmeans.labels_"
   ]
  },
  {
   "cell_type": "code",
   "execution_count": 430,
   "metadata": {},
   "outputs": [
    {
     "data": {
      "image/png": "[encoded data removed]",
      "text/plain": [
       "<Figure size 432x288 with 1 Axes>"
      ]
     },
     "metadata": {
      "needs_background": "light"
     },
     "output_type": "display_data"
    }
   ],
   "source": [
    "plt.imshow(DisRX, cmap='hot', interpolation='nearest')\n",
    "plt.show()"
   ]
  },
  {
   "cell_type": "code",
   "execution_count": 431,
   "metadata": {},
   "outputs": [
    {
     "data": {
      "text/plain": [
       "array([0, 0, 1, 1, 1, 0, 0, 1, 1, 0, 1, 1, 0, 0, 0, 1], dtype=int32)"
      ]
     },
     "execution_count": 431,
     "metadata": {},
     "output_type": "execute_result"
    }
   ],
   "source": [
    "kmeans = KMeans(n_clusters=2,init='random',tol=0.0001,n_init=16).fit(RX)\n",
    "kmeans.labels_"
   ]
  },
  {
   "cell_type": "code",
   "execution_count": 432,
   "metadata": {},
   "outputs": [],
   "source": [
    "DisRAX=D(ReAr(RX,kmeans.labels_))"
   ]
  },
  {
   "cell_type": "code",
   "execution_count": 433,
   "metadata": {},
   "outputs": [
    {
     "data": {
      "image/png": "[encoded data removed]",
      "text/plain": [
       "<Figure size 432x288 with 1 Axes>"
      ]
     },
     "metadata": {
      "needs_background": "light"
     },
     "output_type": "display_data"
    }
   ],
   "source": [
    "plt.imshow(DisRAX, cmap='hot', interpolation='nearest')\n",
    "plt.show()"
   ]
  },
  {
   "cell_type": "markdown",
   "metadata": {},
   "source": [
    "**Comments:** The $k$-means can differentiate two cluster of data (even if we randomize the initial sequence of data points). And it can be seen on the heat graph which directly use the euclidean distance between data points. A very similar pattern of the red-white one comes out after we applied $k$-means algorithms. That means, the distance of data points are closer to each other in the same cluster (warmer color), and far away from data points belong to the other cluster."
   ]
  }
 ],
 "metadata": {
  "kernelspec": {
   "display_name": "Python 3",
   "language": "python",
   "name": "python3"
  },
  "language_info": {
   "codemirror_mode": {
    "name": "ipython",
    "version": 3
   },
   "file_extension": ".py",
   "mimetype": "text/x-python",
   "name": "python",
   "nbconvert_exporter": "python",
   "pygments_lexer": "ipython3",
   "version": "3.7.3"
  }
 },
 "nbformat": 4,
 "nbformat_minor": 2
}
