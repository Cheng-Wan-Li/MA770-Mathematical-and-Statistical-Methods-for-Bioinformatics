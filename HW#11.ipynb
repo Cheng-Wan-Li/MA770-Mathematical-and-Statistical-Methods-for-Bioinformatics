{
 "cells": [
  {
   "cell_type": "markdown",
   "metadata": {},
   "source": [
    "# MA770 Mathematical and Statistical Methods of Bioinformatics\n",
    "# Problem Set 11.1, 11.2\n",
    "### Cheng, Wanli U31865818"
   ]
  },
  {
   "cell_type": "code",
   "execution_count": 1,
   "metadata": {},
   "outputs": [],
   "source": [
    "# Load modules we'll need.\n",
    "import pandas as pd\n",
    "import matplotlib.pyplot as plt\n",
    "import numpy as np"
   ]
  },
  {
   "cell_type": "markdown",
   "metadata": {},
   "source": [
    "## 1. BLOSUM62"
   ]
  },
  {
   "cell_type": "code",
   "execution_count": 2,
   "metadata": {},
   "outputs": [],
   "source": [
    "BLOSUM62=np.array([[ 9, 0, 0, 0, 0, 0, 0, 0, 0, 0, 0, 0, 0, 0, 0, 0, 0, 0, 0, 0],\n",
    "                   [-1, 4, 0, 0, 0, 0, 0, 0, 0, 0, 0, 0, 0, 0, 0, 0, 0, 0, 0, 0],\n",
    "                   [-1, 1, 5, 0, 0, 0, 0, 0, 0, 0, 0, 0, 0, 0, 0, 0, 0, 0, 0, 0],\n",
    "                   [-3,-1,-1, 7, 0, 0, 0, 0, 0, 0, 0, 0, 0, 0, 0, 0, 0, 0, 0, 0],\n",
    "                   [ 0, 1, 0,-1, 4, 0, 0, 0, 0, 0, 0, 0, 0, 0, 0, 0, 0, 0, 0, 0],\n",
    "                   [-3, 0,-2,-2, 0, 6, 0, 0, 0, 0, 0, 0, 0, 0, 0, 0, 0, 0, 0, 0],\n",
    "                   [-3, 1, 0,-2,-2, 0, 6, 0, 0, 0, 0, 0, 0, 0, 0, 0, 0, 0, 0, 0],\n",
    "                   [-3, 0,-1,-1,-2,-1, 1, 6, 0, 0, 0, 0, 0, 0, 0, 0, 0, 0, 0, 0],\n",
    "                   [-4, 0,-1,-1,-1,-2, 0, 2, 5, 0, 0, 0, 0, 0, 0, 0, 0, 0, 0, 0],\n",
    "                   [-3, 0,-1,-1,-1,-2, 0, 0, 2, 5, 0, 0, 0, 0, 0, 0, 0, 0, 0, 0],\n",
    "                   [-3,-1,-2,-2,-2,-2, 1,-1, 0, 0, 8, 0, 0, 0, 0, 0, 0, 0, 0, 0],\n",
    "                   [-3,-1,-1,-2,-1,-2, 0,-2, 0, 1, 0, 5, 0, 0, 0, 0, 0, 0, 0, 0],\n",
    "                   [-3, 0,-1,-1,-1,-2, 0,-1, 1, 1,-1, 2, 5, 0, 0, 0, 0, 0, 0, 0],\n",
    "                   [-1,-1,-1,-2,-1,-3,-2,-3,-2, 0,-2,-1,-1, 5, 0, 0, 0, 0, 0, 0],\n",
    "                   [-1,-2,-1,-3,-1,-4,-3,-3,-3,-3,-3,-3,-3, 1, 4, 0, 0, 0, 0, 0],\n",
    "                   [-1,-2,-1,-3,-1,-4,-3,-4,-3,-2,-3,-2,-2, 2, 2, 4, 0, 0, 0, 0],\n",
    "                   [-1,-2, 0,-2, 0,-3,-3,-3,-2,-2,-3,-3,-2, 1, 3, 1, 4, 0, 0, 0],\n",
    "                   [-2,-2,-2,-4,-2,-3,-3,-3,-3,-3,-1,-3,-3, 0, 0, 0,-1, 6, 0, 0],\n",
    "                   [-2,-2,-2,-3,-2,-3,-2,-3,-2,-1, 2,-2,-2,-1,-1,-1,-1, 3, 7, 0],\n",
    "                   [-2,-3,-2,-4,-3,-2,-4,-4,-3,-2,-2,-3,-3,-1,-3,-2,-3, 1, 2,11]])\n",
    "\n",
    "Alphabet_Protein=np.array(['C','S','T','P','A','G','N','D','E','Q','H','R','K','M','I','L','V','F','Y','W'])\n",
    "\n",
    "Penalty1=4 ### Gap Penalty"
   ]
  },
  {
   "cell_type": "markdown",
   "metadata": {},
   "source": [
    "### Needleman-Wunsch alignment algorithm"
   ]
  },
  {
   "cell_type": "code",
   "execution_count": 3,
   "metadata": {},
   "outputs": [],
   "source": [
    "def translate(x,Dict):\n",
    "    N=len(x)\n",
    "    index=np.zeros(N)\n",
    "    for n in np.arange(N):\n",
    "        index[n]=index[n]+np.where(Dict==x[n])[0][0]\n",
    "    return index\n",
    "\n",
    "def Needleman_Wunsch(x,y,Score_matrix,Alphabet,Penalty):\n",
    "    N=len(x)\n",
    "    M=len(y)\n",
    "    F=np.zeros((N+1,M+1))\n",
    "    I=np.zeros((N+1,M+1))\n",
    "    for n in np.arange(N+1):\n",
    "        for m in np.arange(M+1):\n",
    "            if n ==0:\n",
    "                if m==0:\n",
    "                    F[(n,m)]=F[(n,m)]+0\n",
    "                else:\n",
    "                    Fj=F[(n,m-1)]-Penalty\n",
    "                    F[(n,m)]=F[(n,m)]+Fj\n",
    "                    I[(n,m)]=I[(n,m)]+2\n",
    "            elif m==0:\n",
    "                Fi=F[(n-1,m)]-Penalty\n",
    "                F[(n,m)]=F[(n,m)]+Fi\n",
    "                I[(n,m)]=I[(n,m)]+1\n",
    "            else:\n",
    "                Fij=F[(n-1,m-1)]+Score_matrix[(int(translate(x,Alphabet)[n-1]),int(translate(y,Alphabet)[m-1]))]\n",
    "                Fi=F[(n-1,m)]-Penalty\n",
    "                Fj=F[(n,m-1)]-Penalty\n",
    "                if Fi==max(Fij,Fi,Fj):\n",
    "                    F[(n,m)]=F[(n,m)]+Fi\n",
    "                    I[(n,m)]=I[(n,m)]+1\n",
    "                if Fj==max(Fij,Fi,Fj):\n",
    "                    F[(n,m)]=F[(n,m)]+Fj\n",
    "                    I[(n,m)]=I[(n,m)]+2\n",
    "                if Fij==max(Fij,Fi,Fj):\n",
    "                    F[(n,m)]=F[(n,m)]+Fij\n",
    "                    I[(n,m)]=I[(n,m)]+1/2\n",
    "    return [F,I]"
   ]
  },
  {
   "cell_type": "code",
   "execution_count": 7,
   "metadata": {},
   "outputs": [],
   "source": [
    "S3=np.array([[ 2,-1,-1,-1],\n",
    "            [-1, 2,-1,-1],\n",
    "            [-1,-1, 2,-1],\n",
    "            [-1,-1,-1, 2]])\n",
    "\n",
    "Alphabet_Gene=np.array(['A','C','G','T'])\n",
    "\n",
    "Penalty3=1"
   ]
  },
  {
   "cell_type": "code",
   "execution_count": 8,
   "metadata": {},
   "outputs": [],
   "source": [
    "x1='TTGAC'\n",
    "y1='TGGC'"
   ]
  },
  {
   "cell_type": "code",
   "execution_count": 9,
   "metadata": {},
   "outputs": [],
   "source": [
    "Scores1=Needleman_Wunsch(x1,y1,S3,Alphabet_Gene,Penalty3)\n",
    "F1=Scores1[0]\n",
    "I1=Scores1[1]"
   ]
  },
  {
   "cell_type": "code",
   "execution_count": 10,
   "metadata": {},
   "outputs": [
    {
     "data": {
      "text/plain": [
       "array([[ 0., -1., -2., -3., -4.],\n",
       "       [-1.,  2.,  1.,  0., -1.],\n",
       "       [-2.,  2.,  2.,  1.,  0.],\n",
       "       [-3.,  1.,  4.,  4.,  3.],\n",
       "       [-4.,  0.,  3.,  6.,  5.],\n",
       "       [-5., -1.,  2.,  5.,  8.]])"
      ]
     },
     "execution_count": 10,
     "metadata": {},
     "output_type": "execute_result"
    }
   ],
   "source": [
    "F1"
   ]
  },
  {
   "cell_type": "markdown",
   "metadata": {},
   "source": [
    "The following matrix $I$ is used to indicate the direction of the dependency relationship, where 2 denote $l$, 1 denote $u$, 0.5 denote $d$ (and correspondingly $1.5\\equiv ud$, $2.5\\equiv ld$) with respect to the convention used in the lecture."
   ]
  },
  {
   "cell_type": "code",
   "execution_count": 11,
   "metadata": {},
   "outputs": [
    {
     "data": {
      "text/plain": [
       "array([[0. , 2. , 2. , 2. , 2. ],\n",
       "       [1. , 0.5, 2. , 2. , 2. ],\n",
       "       [1. , 1.5, 2.5, 2. , 2. ],\n",
       "       [1. , 1. , 0.5, 0.5, 2. ],\n",
       "       [1. , 1. , 1. , 1.5, 2. ],\n",
       "       [1. , 1. , 1. , 1. , 0.5]])"
      ]
     },
     "execution_count": 11,
     "metadata": {},
     "output_type": "execute_result"
    }
   ],
   "source": [
    "I1"
   ]
  },
  {
   "cell_type": "markdown",
   "metadata": {},
   "source": [
    "Start with the highest score at the lowest right cornor, we get the following path (the enteries on the path is shown in bold).\n",
    "$$\n",
    "F=\n",
    "\\begin{bmatrix}\n",
    "&0&L&L&A&W&H&L&A&L\\\\\n",
    "0&  \\mathbf{0.}&  -4.&  -8.& -12.& -16.& -20.& -24.& -28.& -32.\\\\\n",
    "L& -4.&   \\mathbf{4.}&   0.&  -4.&  -8.& -12.& -32.& -25.& -24.\\\\\n",
    "A& -8.&   0.&   \\mathbf{4.}&   4.&   0.&  -4.&  -8.& -12.& -16.\\\\\n",
    "T&-12.&  -4.&   0.&   \\mathbf{4.}&   4.&   0.&  -8.&  -8.& -24.\\\\\n",
    "G&-16.&  -8.&  -8.&   0.&   \\mathbf{4.}&   4.&   0.&  -4.& -16.\\\\\n",
    "H&-20.& -12.&  -8.&  -4.&   0.&  \\mathbf{12.}&   8.&   4.&   0.\\\\\n",
    "A&-24.& -16.& -24.&  -4.&  -8.&   \\mathbf{8.}&  \\mathbf{12.}&  12.&   8.\\\\\n",
    "G&-28.& -20.& -16.&  -8.&  -4.&   4.&  \\mathbf{16.}&  \\mathbf{24}.&  \\mathbf{20.}\n",
    "\\end{bmatrix}\n",
    "$$"
   ]
  },
  {
   "cell_type": "markdown",
   "metadata": {},
   "source": [
    "Therefore, the optimal alignments are given by:\n",
    "\n",
    "\\begin{align}\n",
    "&LATGHAG-&&LATGHA-G\\\\\n",
    "&LLAWHLAL&&LLAWHLAL\n",
    "\\end{align}\n",
    "\n",
    "\\begin{align}\n",
    "LATGHAG--&&LATGHA-G-&&LATGHA--G\\\\\n",
    "LLAW-HLAL&&LLAW-HLAL&&LLAW-HLAL\n",
    "\\end{align}"
   ]
  },
  {
   "cell_type": "markdown",
   "metadata": {},
   "source": [
    "## 2. Local alignments"
   ]
  },
  {
   "cell_type": "code",
   "execution_count": 267,
   "metadata": {},
   "outputs": [],
   "source": [
    "S=np.array([[ 1,-1,-1,-1],\n",
    "            [-1, 1,-1,-1],\n",
    "            [-1,-1, 1,-1],\n",
    "            [-1,-1,-1, 1]])\n",
    "\n",
    "Alphabet_Gene=np.array(['A','C','G','T'])\n",
    "\n",
    "Penalty2=2"
   ]
  },
  {
   "cell_type": "markdown",
   "metadata": {},
   "source": [
    "### Smith-Waterman algorithm"
   ]
  },
  {
   "cell_type": "code",
   "execution_count": 279,
   "metadata": {},
   "outputs": [],
   "source": [
    "def Smith_Waterman(x,y,Score_matrix,Alphabet,Penalty):\n",
    "    N=len(x)\n",
    "    M=len(y)\n",
    "    F=np.zeros((N+1,M+1))\n",
    "    I=np.zeros((N+1,M+1))\n",
    "    for n in np.arange(N+1):\n",
    "        for m in np.arange(M+1):\n",
    "            if n ==0:\n",
    "                if m==0:\n",
    "                    F[(n,m)]=F[(n,m)]+0\n",
    "                else:\n",
    "                    F[(n,m)]=F[(n,m)]+0\n",
    "                    I[(n,m)]=I[(n,m)]+2\n",
    "            elif m==0:\n",
    "                F[(n,m)]=F[(n,m)]+0\n",
    "                I[(n,m)]=I[(n,m)]+1\n",
    "            else:\n",
    "                Fij=F[(n-1,m-1)]+Score_matrix[(int(translate(x,Alphabet)[n-1]),int(translate(y,Alphabet)[m-1]))]\n",
    "                Fi=F[(n-1,m)]-Penalty\n",
    "                Fj=F[(n,m-1)]-Penalty\n",
    "                if Fi==max(Fij,Fi,Fj,0):\n",
    "                    F[(n,m)]=F[(n,m)]+Fi\n",
    "                    I[(n,m)]=I[(n,m)]+1\n",
    "                if Fj==max(Fij,Fi,Fj,0):\n",
    "                    F[(n,m)]=F[(n,m)]+Fj\n",
    "                    I[(n,m)]=I[(n,m)]+2\n",
    "                if Fij==max(Fij,Fi,Fj,0):\n",
    "                    F[(n,m)]=F[(n,m)]+Fij\n",
    "                    I[(n,m)]=I[(n,m)]+1/2\n",
    "                if 0==max(Fij,Fi,Fj,0):\n",
    "                    F[(n,m)]=F[(n,m)]+0\n",
    "                    I[(n,m)]=I[(n,m)]+0\n",
    "    return [F,I]"
   ]
  },
  {
   "cell_type": "code",
   "execution_count": 280,
   "metadata": {},
   "outputs": [],
   "source": [
    "x2='ACATGCTG'\n",
    "y2='GCATGCTA'"
   ]
  },
  {
   "cell_type": "code",
   "execution_count": 284,
   "metadata": {},
   "outputs": [],
   "source": [
    "Scores2=Smith_Waterman(x2,y2,S,Alphabet_Gene,Penalty2)\n",
    "F2=Scores2[0]\n",
    "I2=Scores2[1]"
   ]
  },
  {
   "cell_type": "code",
   "execution_count": 285,
   "metadata": {},
   "outputs": [
    {
     "data": {
      "text/plain": [
       "array([[0., 0., 0., 0., 0., 0., 0., 0., 0.],\n",
       "       [0., 0., 0., 1., 0., 0., 0., 0., 1.],\n",
       "       [0., 0., 1., 0., 0., 0., 1., 0., 0.],\n",
       "       [0., 0., 0., 2., 0., 0., 0., 0., 1.],\n",
       "       [0., 0., 0., 0., 3., 1., 0., 1., 0.],\n",
       "       [0., 1., 0., 0., 1., 4., 2., 0., 0.],\n",
       "       [0., 0., 2., 0., 0., 2., 5., 3., 1.],\n",
       "       [0., 0., 0., 1., 1., 0., 3., 6., 4.],\n",
       "       [0., 1., 0., 0., 0., 2., 1., 4., 5.]])"
      ]
     },
     "execution_count": 285,
     "metadata": {},
     "output_type": "execute_result"
    }
   ],
   "source": [
    "F2"
   ]
  },
  {
   "cell_type": "markdown",
   "metadata": {},
   "source": [
    "The following matrix $I$ is used to indicate the direction of the dependency relationship, where 2 denote $l$, 1 denote $u$, 0.5 denote $d$ (and correspondingly $1.5\\equiv ud$, $2.5\\equiv ld$) with respect to the convention used in the lecture."
   ]
  },
  {
   "cell_type": "code",
   "execution_count": 286,
   "metadata": {},
   "outputs": [
    {
     "data": {
      "text/plain": [
       "array([[0. , 2. , 2. , 2. , 2. , 2. , 2. , 2. , 2. ],\n",
       "       [1. , 0. , 0. , 0.5, 0. , 0. , 0. , 0. , 0.5],\n",
       "       [1. , 0. , 0.5, 0. , 0.5, 0. , 0.5, 0. , 0. ],\n",
       "       [1. , 0. , 0. , 0.5, 2. , 0. , 0. , 0.5, 0.5],\n",
       "       [1. , 0. , 0. , 1. , 0.5, 2. , 0. , 0.5, 0. ],\n",
       "       [1. , 0.5, 0. , 0. , 1. , 0.5, 2. , 2. , 0.5],\n",
       "       [1. , 0. , 0.5, 2. , 0. , 1. , 0.5, 2. , 2. ],\n",
       "       [1. , 0. , 1. , 0.5, 0.5, 1. , 1. , 0.5, 2. ],\n",
       "       [1. , 0.5, 0. , 0. , 0.5, 0.5, 1. , 1. , 0.5]])"
      ]
     },
     "execution_count": 286,
     "metadata": {},
     "output_type": "execute_result"
    }
   ],
   "source": [
    "I2"
   ]
  },
  {
   "cell_type": "markdown",
   "metadata": {},
   "source": [
    "Start with the highest score and trace back, we get the following path (the enteries on the path is shown in bold).\n",
    "$$\n",
    "F=\n",
    "\\begin{bmatrix}\n",
    " &  0 &   G &   C &   A &   T &   G &   C &   T &   A \\\\\n",
    "0&  0.&   0.&   0.&   0.&   0.&   0.&   0.&   0.&   0.\\\\\n",
    "A&  0.&   0.&   0.&   0.&   0.&   0.&   0.&   0.&   0.\\\\\n",
    "C&  0.&   0.&   \\mathbf{1.}&   0.&   0.&   0.&   1.&   0.&   0.\\\\\n",
    "A&  0.&   0.&   0.&   \\mathbf{2.}&   0.&   0.&   0.&   0.&   1.\\\\\n",
    "T&  0.&   0.&   0.&   0.&   \\mathbf{3.}&   1.&   0.&   1.&   0.\\\\\n",
    "G&  0.&   0.&   0.&   0.&   1.&   \\mathbf{4.}&   2.&   0.&   0.\\\\\n",
    "C&  0.&   0.&   1.&   0.&   0.&   2.&   \\mathbf{5.}&   3.&   1.\\\\\n",
    "T&  0.&   0.&   0.&   0.&   1.&   0.&   3.&   \\mathbf{6.}&   4.\\\\\n",
    "G&  0.&   0.&   0.&   0.&   0.&   2.&   1.&   4.&   5.\n",
    "\\end{bmatrix}\n",
    "$$"
   ]
  },
  {
   "cell_type": "markdown",
   "metadata": {},
   "source": [
    "Hence the optimal local alignment for\n",
    "\\begin{align}\n",
    "x&=ACATGCTG\\\\\n",
    "y&=GCATGCTA\n",
    "\\end{align}\n",
    "is given by:\n",
    "\\begin{align}\n",
    "x:&-CATGCT-\\\\\n",
    "y:&-CATGCT-\n",
    "\\end{align}"
   ]
  },
  {
   "cell_type": "markdown",
   "metadata": {},
   "source": [
    "## 3. BLAST"
   ]
  },
  {
   "cell_type": "markdown",
   "metadata": {},
   "source": [
    "### The Human Gene"
   ]
  },
  {
   "cell_type": "markdown",
   "metadata": {},
   "source": [
    "We used the following human gene sequence and use the NIH BLAST to find its homolgs."
   ]
  },
  {
   "cell_type": "markdown",
   "metadata": {},
   "source": [
    "GAACCATGTCCTAAATGGTTTACACTGCGCACAGCTTCCTCTCAGCCCGC TCTGAGCTGGAAGCAGCATGTGGGACCTGGCCCTGATCTTCCTCGCAGCA GCCTGCGTGTTCTCACTAGGGGTCACTCTGTGGGTCATTTGCAGCCATTT TTTCACTGTGCACATCCCTGCAGCGGTTGGCCACCCTGTGAAACTGAGAG TCCTCCATTGCATCTTCCAGCTGCTGTTGACTTGGgtgagttttgtgctt tatgtgtcccctccagctgaccattaaggaaggcggcaggaaaaatcaca caccggaagcttctagctgaatgaacaccggtatcatggggcctgcagtg acagctgatcagaccttctgaaatgtgcataatccctattaggtggttct cagcctctttgggtgtttctgaagctggccctggctaatattcacaaaat tcaaagaatgatctgctttctcagttaacagaaagaaaaaaccagtctgg ttctattcacctgagtgtctcccgctgactttctttttgttgttgttggt ttgttttatttttaaaattgaggtaaaatatgcatataaaatttaccatc tttcgcatttttaagtgtacctttcacgtgtccataaatgtgtccatatt attcacagcactcaccactctcagaagttgtgaagatatgaatgaatttt cctgagtctctgggcccccactgctatctacctgttagctagagccagca agccacaaagtaaaagggtagcggatgagtagattagtgccggtgagcaa aattacagaatgtgactttaaaaatatgttgttgcttttgagagctagaa agctgcctagggaatatagtttggttctgcttctggtgtaatttgttaaa atacctgtaaatggaactgtgtaggtgttgccaatacggatttcttgtac tttttcttgtgccttgacagaaactgaatatacaaaatattttttgtaag tttcttacataacgaaaagcaattgccagtgcctcttctcaagagacacc ctaggtgtgtcttctatgctattcaaaataatttctatgctattcaaaag aatgtagctattacctaaaagagaagatcccgggaactctaggcttctga tctccagtcagcttttataagatgcagtgattgggtcctaggttttccta cccttgatgctcagattctgtagtccaggctcccaaatacagtgactcga tttcctcttttgcaaagtagggaaaattgctcctacttcacagggttttg tggagactccatgaataaccctctccagaaggcttattataatgcctgac acagagggagccctccttaaatagtagccattgttactctttgttgattc ttttattttttatgcaaagatgtgttatgcaactgctgtgtgtcctacgc cagtcctgggctctagggccaatgacaggtgagagaggtaaagttccaca ggtctgcctttagggagcttgtagggtccaggcagtgggcagcggggaag tggtctataaagaagctaacccacaatagaacaagctacagataaacagc ttcccaaagcggagaatgcaaggaggacagcaaaacccgtcaggggagcc gagcagggcttctctcctggggcatcttgagcccccggggccacagaaca caagggggtcatggatttggatcacagaacataagggggtcatggatttg ggtcacagaacacaagggggtcatggatttggatggggtcaaaattaccc catgttcacaactaacttccaattgaaattcttctcatgaggaatgaagg caacaaaccacagtcctgaaagccagacctcgacttttcaccaagagaaa tcagacatatttgcattgcctattagatattgcgaaaactcatgtattct cctcatttctttgaaactagggtagtatcaggcagcagttagatcttatt actctatgtgctagtaaggaagaacctatattattatgacatacatttta atattttgataagtatatttaaataacactgcttttctttataatcccat gtatttattttatgtatttaaaaatgttctgggctgggtgtagtggctta cacctgtaatcccagcactttgggaggctgaggtgggaggactgtttgag tccaggagtttgagaccagcctgggtgacataatgaggcctcttctctcc aaaaaaaaaaaaaaaaaaaaaaagttctcaaatgaggcctgcagcttttc ccaaggccaaaatggctgtggcacagacaaggattaggaaacactggaaa ggatacccagagggagagccctctttatttacgtatttttaactcttttt ttttgagctggagttttactcttgttgcccaggctggagtgcaatggcat gatctcggcttactgcaacctctgcctctagggttcaagagattcttctg cctcagcctctcgagtagccgggaatacaggagcccaccaccacacccac ccggctaatttttgtattttcagtagagactgggtttcaccatgttggcc aggctggccttgaactcctgacctcaagtgacccaccagccttggcctcc caaagtgctgggattacaggtatcagccactgtgcctggctgtattttca accctttatgcaaactttgacatataccaaaggggaacagggtgcccact ctccagtgtcaccatcactgactcctggcctgtctcccttccctgtgtcc ctaaatgtctctaacttttccctcattttcatttatttaagaagccaatg gacatcatattattttatcctaaaaattttcagtaggcattttcaaaaga tatgaactcccccttcctgtttttaaaaaatgtacccacactatagttag ctacacaggcttggggtggccagattggctgggacggcacaggaaggcct ccctggaaacagatgttgcgcccaggctgaggtggagcagggcctcgtgg tggaggtgggtgttgcaagtagagggaccatcaagggtgcccagaagcct ggcttgtagtggctgcagtggaaggtgtcaggagagtgggttgagagggg ctggctggtgctgtggccacctgggcctgcatgggagtggattttcctgc aggtgtcctgagggaactgagggcttgagtagggctgtaatccaatctga ctgcagtttccaaaaactccttttgccacctgtggagggcaggttgtgaa ggccagactccagatggcctgtgaagaaacccatctcgacccatcatttc ttctctctccaacagGGGATGATATTTGAGAAGCTCAGAATCTGTTCTAT GCCCCAATTTTTCTGTTTCATGCAAGATCTGCCTCCGCTAAAGTATGACC CCGATGTTGTGGTCACGGATTTCCGCTTTGGGACAATCCCTGTGAAGCTG TACCAACCCAAGGCATCCACCTGCACCCTGAAGCCTGGCATCGTGTACTA CCACGGTGGCGGGGGCGTCATGGGGAGTTTGAgtaagaaccattttctca gacctcctaaagggtggtggcaccccttaacataacttggaagaatgggc atcttcctgggacttaaagtatgctattattatcagggaacaccagggca gttcatggtttgcagatcattgagggggcaaaaatatggcatatattgcc ctcttatgtatctccttatttacataaatgtaatccttagttaaattaac aatactgtaatataaggaaggatactgtaaggtaaagatcctgaaatgta cccttacttgcatttatatgtgtacatatgtatgtacatataaatgtata catgtatatttcactattttacttataatcaccacctctatttagttgga aataaggatattttaaatgaaaagaattaaaacacagcattttgtttcac atcaggttttgctaagacaaattctggtacagacagacaggaagatttga gaaaaatcaatgagaggaaaaagtcactattgagacaattttactgtctt agttattacccccagggaattaggggagaggaaacacctttatttgcttt cagtagtgctttctaatctgtggaatgccagggtcccagtgtgggagcct ttgagaataaaggatttaatgcaatggtggtgtggtttggtctgtatgag aatgatagtaacagccaatatttattaagcaatattcattaatattacta attacatgcaggcactgtgagaaccctatatgtggatgatctcattccaa ctccaacactctacgagttagatattttcattaccccagttcacagatga ggaaatcaagcctcaggaggttaagagacttgctaggcactatgttagct caagctagaaaggggcaaagttgagatttgaactccagtctgaatccaga gctcacaccctaaacctctgcgttctacagtcaaagagcttcacagatat ttttaatggcttgtaggatggattggagggtgggcgtcttagagaaagtt gttcaggcagtaccacgaaggagaatcagtgagaagattgaccggaagtt tgctggagtagaggaaaacctagtcggcatcggcccaagtgctgtgtctg taggaagaagacggtgacaatggctggcaaaggaagccttcctagtgaat cttaaaaaccatttattttctagAAACCCACCATGGCATATGCTCTCGTT TGTGCAAGGAGAGTGACTCCGTGGTTCTGGCAGTTGGgtgagtaaagggg agatcccagggagccagcaaggagcaaggctctgatgtggagagatgggg tgagaagtagaaatgggggtggggggtgggggatgggagcagatgggagc tggaggaagcccagaggtggggatgggctgggagaagccagtgaagagag aaaaagaaggcggctgggtgtggtggctcacgcctgtaatcccaacactt tgggaggccacggtgggcagaatgcttgagcccaggagttcagaccagcc tgggcaacatagtgagaccccatttttacaaaaaatacaaaaattagcca ggtgtggtggcatatgtctgtagtcccagctacttgggaggccgaggagg aagaagcacctgagcctgggaggttgcagtgagccgtgattgcgccacta cactcagcctgggtgacagaacaagaccctgtcttaaaacaaacaaaaca aaacaagaaaaagagagtgaaagaaaaataaggggaggtgaagagagatg gagagacagagaatggggaaccccttcctctgtgcatgtgggccttgggt ttgtttaaacagaggcgttttgtgcattttgaagctgggtaggaggtggt cttttttaagcagttcaggtgcagagtttcactgcaggaacacttggaca acatagctcttctttgagtaaaacaaccctgcacctccttctgctaaatg cctgtggtaccccgcaccatcactcaaacaacccgaaatgctgccacgtt cacttccaagtgctcccaaaagggaggtccccctggctgagacccactga agaaagtgagaaaaacaaaaacaaaaacaaacccattgtctctcctaaca gatctctgacagtcaccgcccagcctggagcctcaaagagggcgtggtgg gcatggggtcccctgtcctgctgcctgatgcagcatcacacacgtggttc ctcctggttaagtttccctgtagtttcatttaaaggtacacactttaaag aaatatcagttctctgcatctcagtgggggtacatctgccagctttcttg tggcacagctacctgaggtgagtagaaaacgaagagatgaagccgggtgc agtggctcacgcttgtaatcccagcacgaggccaaggtgggtggatcact tgaggccaggagttcaagaccagcctggccaacacggtgaaaccttgtct ctactaaaaatacaaaaattagccaggtgtggtggcatgtgcctgtagcc ccagctactcaggaggctgaggcaggagaatcacttgaacccagaaggca gaggttacagtgagctgagatggcgccactgcactccagcctgggtgaca gagtgagattccgtctgaaaaaaaaaaaaaaaaaaaaaaatggaaaagaa aatgaagagatgagatgagagagagacctggataaacccctgactttaca attctcagctccagaagggtttctaccatgggatcatgggatgttgccgg acaccttgtcattctgattgtaccaaaccaagagatcgtcagtagaacat gctagcaagtctctgccagaaagttcttttctaaatccaaggtagacagg attttggagttaagggcattgctttccaggatgtcctattcccgggtggc ctgaaatgggggtatggaatggaaacagctgatggaagttttgtttgttg ctcccatagagtgtttctttgtcttttttttttttttaatttgtgaccag catttaaaaatagtgaactttctcacaaaacctggatttctggaatctct tagcaataccaggtaggcagggcagccatggtgttgagtgtgcatagctt gtttggaagagtgctgtgtatctctggcctctggtggtacagtcagtcct cagcaatgtcgacaggttcttggaactgtaacttggagtgaaaccaattt tacctattacaaaacctaggctaattgatatagacagaatcaagctctga tggtataattctggtcacaaaaacaccagctaatttatttaaaaattttt taaaaatttattttactacttttatgttttataattttctttagtagaga cgaggtcttgccatgttgcccaggctggtctcaaacttctgagctcaggc aatccttcttcctcagcttctcagagtgctgaggttataagtgtgagcca ctatgcctgccctaaccttctaaataaagaaaaacacctgctaatattaa aaattgaaataaaagtgagctatacatatatttttaaaagattaaaaaaa ataataattatttacccaatttttggtgaatcagtgagtgatggtggtca ttctggtggtgggttaaatctaggaataaatgtttacaaggtaaaaattg tcaggagtacctctgactgtctcccagttcaaaaccactcacaaatgtgg cagcctcattgagagcttctgtactgcatcatttatttttgtgtagatgt atgattattgtaaactttatgcatttttttgtttttgagatgggatctca ccctgtcacctaggctggagtacagtggtgcgatctcagctcactgcaac ctctgcctcctgggctcaagtgattcttgtgcctcagtctcctgagtagc tgggaccacagacacacaccaccacgcctggctaattttttgtatttttg gtagaggcagggtttcaccttgttgcccaggctggttttgaactcctgag ctcaggcgattcatctgccttggcctcccaaagtgctgggattataggct tgagccactgtgcttggctgactttataattttttttttttgagacagag tttcactcttgttgcccaggttggagtgcaagagcgcgatctcggctcac cacaacttctgcctcctgggttcaagggattcttctgcctcagccttcct gagtagctgggattacaggcatgcaccaccacgcccggttaattttgtat ttttagtagagacggggtttctccatgttggtcaggctggtcttgaactc ctgacctcaggtgatccacctgcctcggcctcccaaagtgctgggattac aggcgtgagccactgcacccggttggctttatgcatttttattttgcaat aatttatattccttcatctattccttttccaactcacttattctagttca gggtcgtgggtggctggatcctatccctgcagctcagggaacaaggcagg aaccaaccctggacaggacacccacctattgcagggcacactcacaccta caaccacattcacttggaccgggacaatttagacatgctcatgaatgtaa catacacatctttgggatgtgggaggaaactggaggactgggagaaaacc cacacagacatgaggagaatgtgcaaactccacacaaacagtagtagccc aggctggaatcgtttttctttctttcatcaatataatgaaacaatgttga atgaaatgacattatttgagaccctgctttttttttcttctttgagacag ggtctcactctgtcacccaggctggagtgcagtggcatggtcacagctca ctgcagcctcaacctcccaggcccaagtgatccacctgcctcaccctcct gagtagctgggactacatgtatccaccaccatgcccagctaattttttat actctttgtagaggtggggtctcaccatgttgcccaggctgggcttgaac tcttggactcaatggatcggcccatctcagcctcccaaagtgctgaaatt aaaggcatgagccaccggcctggccaacctgctgtatttaagtctacaag atctcccttaacaaaatctgtaggtatggcatgattaattaaaaacccaa gcaggtcttgaagttgctcatacaagaatcataaaacaggaagcaggagc aggtgagtcagggaagcaacatgaggcaggttcaggaagatggggctagt gtgggtgatatttacattgttggccaattggtggatgtctcgtgacacag gtcccccattagggcattgagacagtaggaatggcacctgcctaggtatg tgggctttatgtgtctcatctcatttaagcctcacacctaactttaactg ctcaagtttcacaaagggaagtgaatggactaatttgggctaaaagatgc tagacgctgatattttggatctgccggggcgttatcaactgtgtttcttg attcctttttagTTACCGCAAGTTACCTAAGCATAAGTTTCCAGTGCCAG TAAGAGACTGCTTGGTGGCCACCATCCACTTCCTGAAGTCCCTGGATGCA TATGGAGTGGATCCAGCCCGGGTTGTGGTCTGCGGTGACAGTTTCGGAGG GGCAATAGCCGCAGTGGTTTGTCAACAACTTGTGGACAGGCCAGATCTGC CCCGGATCCGGGCTCAGATCCTGATCTATGCCATTCTCCAAGCCCTGGAT TTACAAACCCCTTCGTTTCAACAGAGGAAAAACATCCCACTGCTCACCTG GAGTTTCATCTGCTACTTTTTTTTTCAAAACCTGGATTTCAGCTCCTCCT GGCAAGAGGTCATCATGAAAGGTGCCCATTTGCCTGCTGAAGTCTGGGAA AAGTACAGAAAGTGGTTGGGCCCAGAAAACATCCCTGAGAGGTTTAAGGA GAGGGGTTACCAACTGAAGCCCCATGAGCCCATGAATGAAGCTGCTTACT TGGAAGTAAGTGTTGTCCTGGATGTGATGTGCTCGCCCCTGATTGCAGAA GATGACATAGTGTCTCAGCTCCCGGAAACCTGCATCGTGAGCTGTGAGTA TGATGCTCTCCGGGACAATTCACTGTTGTACAAGAAAAGGCTGGAAGACC TGGGAGTGCCCGTGACCTGGCACCATATGGAGGATGGTTTCCATGGAGTG CTCAGGACCATTGACATGAGCTTCTTGCACTTTCCCTGCTCCATGAGAAT TCTGAGTGCATTAGTTCAATTTGTAAAGGGACTGTGACCATCTTTCTTCT CTGCTGGTACTGCGGTGTGGATTCCACTGGCATCCAGCCTCCCACAGGGC TCTCTGTTGCTGATTTAGGTGGTGCATAGTGGGGCTAGGGAGGGGGTAGA GGTTGCTGTCACCTTTCTGGTCCAGGTTCTAGAACCACACAATGCATGCT CCTGATGTCCAGAGGACGTGGTAGAAAAGACAGGTTTGGAGGTGGGAGTG TGGCTGTCTCTATTCTCTGTTGGGAAAACCTGGGCTGACAATATTCAGTG GCCATTTGTGGGAGTGAATCAGCCGGTAAGAGCTGTTCTCAGCCTCCCTA AGGGGCAGTTCAGGCTCCCAGATTGATCCAGACTGTGTGTGACTTTCGTC CATTTGACTTGACTTTGGAATAGCACAAGGGCATCATGTACTTCACGAGG CTTTCCCAATGTGGCTCAGAGGCAGGAGCTCTGATGCTCTGGGCTGCTGT GAGGTGGTGGTGGTGGTAGAGAAACTGGCTTCACCCACCTACTCTTCTGT GAACAGTAGTGACTTTTCCCGCTGTTTCTCAGCCTCTGGGATCAGAGTCT TCACTGTCTGGGCTGGAAACTTTAAGATAGAATGGATAGAGCTTCCACAG TGGTTGGCATCTAGTGGTGGATGAAGACAGCCTGCAGCTGCCCGACTTGG GGAGCTCTGGAGCTCCTGGAATCAAAGCCTGTCTTCCAACCAGAAGCCCC AAGGCAATGTTCTAAGAATTTGAGAAGAGAAGTTGGGAGGGAAGTGGGGT CCTGAGTTAGAGACCCATGAAGGCTGAGTCTAACCAGATAACCCTGTCCA CAGTGCAAAGTCAAGACAGCCAAAGGAACAGAAGATGTATTTGTGAAAAC TATTTCTTTTTTAAGACATGGAACCAACTCAAATTGGCCTCTATTAGAAA GACAATAGATTGGCTTAGGTAGGGATGCATGCTAGGCATACATCAGGCAA GGTTTGATCCAGGAACTCACACAGTGCCATCAGCTGTCCTGTCTTCTCTG CTCTGCTCTTCTCTCCTCTGTGTTAATGCCACCTTCTCCTCTTCATACGG TGGCACTGAGCAGCTTCATGCCTACCTTCCTCCAGGGTCAAGTTCATTAT CATGGACTTGCCTCATGCTCAGCAGTCCCAGAAAAAAGCCTAATTGCAAC TTGATGGCTTTGTTGGCTTTCTGAGCAATGTGTCCAGTTGCCACAGTGAA GGGAATGGAATAATCTAACTCACCATTCCCAAGTCCTATGCCATCCTGAG AGTGGGGGGTGGAGTCAATTCACCTTGGTGCTTGGACTAAGCATGAGGTG GTGAGTGACAACGTTCCTAATTGAAGGGTAGGGTAAATGGTTGTTGGGTG GACACCAACACTTATTCTACTACAGAAGCTAAATTGAACCCTCAGGCAGG GTACGTGAAAGTGGCAAGAGATGTCAAGACCACTGGGCAAGTTGGCCAGT TGTTCCTTAGGAATGAAAATTCTTTTGAAAGGAATGGCCAGGGTCCTCTG CTGGCCCCACTTGGTCTTCTGGAGGCTCTGATCTTGGTTGGTTAGTGGTC TTTACAGGCCAAGGTCAAGGCCATTGCACAAAAAACCCTGTGCATGCCCT TAACTTGCTTTCAGTTGAATATTTGGGCTGAACTATGAGGCAGAGAGGAA TCCCATTGGGTGGCTCCTTGCTGCATTCGCAGTTGACCAGCATGGGGTTT GTTGGAGAAATAGGAACCATCCCCTGAAAACACACACTATGGTAGCCACT CAACTGTTGAAAGGCACTGGAGTCCAATGGGTGAGGCCGCCTCTGAGACA AGCCTCTGAGTTGAGGCTGGGAGAGGCTCCCTCCTTGGAGTGTTGCTTTT TTTGTTTCACCCCTGCCTCTGGAGATGGGTAGAGGAACATGAGCTGACCT TCTGGGAAGTGAGGTTGGTGAGGAGTTGCTGAGGCACTGCAGGGCCATGC CCAGTAGAGAGGAATGTATAACATTTTAAGAGGCTGAGAGCACCCCTTGT TGGGCGCATGCCCATGGCAGCTTCCTTCTGCCGATCATGGGAGAAATCAA GCACTTTCACCTAATGGCTAGATGATTGATTTTGGGATGAAATTCTCCAC TCCTCTCCTTTACCACATCACCACTATCCTTCCTGCAATACATCCACGAG ACTCACTGAGTGGAAAAGGGATAGGAATGAATGTTCACCCAGGGCCAGCT ACATGCTAGGCACTGTACTGGACCATTTAAATTTGCCACCTCTTATGTTC CTCACATTAATCTTACAGAGTAGGTACAGACATACCTATGGATATTGCAG ATTCAGTTCCAGACCACAGCAATAAAGCAAGTCACATGAATTTTTTGCTT TCCTTAGTGCATGTAAAAGTTACATTTCCACTATATTATAGTTTATTAAG TGTGCAATAGCATTATGTCTTTAAAAAGCATGTACATACCTTAATTTAAA AATACCTTGTTGCTGAAAAATGCTAACAATCATCTGAGCCTTCAGTGATT GCAGTAGCCTAGGCTACTATTTTCTATGTGGGGTTTGCACATTCTGCCCA TGTCTGCGTGGGTTTTCTCTGAGTTCTCCAGCTTCCTCCCACATTCCAAA GATGTGTATGTTACATTCATGGGAATGTCTAAATTGTCGTAATCTTTTTG CTGGTTGATGGTCTTGCCTTGATGTTGATGCTGCAGGTGGTGGTTGCTGA AGGTGGGGGAGGCTGTGGCAATTTCTTAAAATAAAATAAGACAACAGTGG A"
   ]
  },
  {
   "cell_type": "code",
   "execution_count": null,
   "metadata": {},
   "outputs": [],
   "source": []
  }
 ],
 "metadata": {
  "kernelspec": {
   "display_name": "Python 3",
   "language": "python",
   "name": "python3"
  },
  "language_info": {
   "codemirror_mode": {
    "name": "ipython",
    "version": 3
   },
   "file_extension": ".py",
   "mimetype": "text/x-python",
   "name": "python",
   "nbconvert_exporter": "python",
   "pygments_lexer": "ipython3",
   "version": "3.7.3"
  }
 },
 "nbformat": 4,
 "nbformat_minor": 2
}
