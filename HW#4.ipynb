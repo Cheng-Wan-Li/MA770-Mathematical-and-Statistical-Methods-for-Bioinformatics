{
 "cells": [
  {
   "cell_type": "markdown",
   "metadata": {},
   "source": [
    "# MA770 Mathematical and Statistical Methods of Bioinformatics\n",
    "# Problem Set 4\n",
    "### Cheng, Wanli U31865818"
   ]
  },
  {
   "cell_type": "markdown",
   "metadata": {},
   "source": [
    "## General Setting ##\n",
    "Let $\\psi_{t}$ denote the sequence of states and $O_{t}$ the sequence of observables with respect to the time evolution. Then let $\\{\\varphi_1,\\dots,\\varphi_n\\}$ denote the collection of possible underlying states and $\\{\\alpha_1,\\dots,\\alpha_m\\}$ the collection of possible observed values.\n",
    "\n",
    "Define $P$ to be the transition matrix:\n",
    "$$P_{ij}=Prob(\\psi_{t+1}=\\varphi_{j}|\\psi_{t}=\\varphi_{i}),$$\n",
    "and $Q$ the matrix for emission probability:\n",
    "$$Q_{ik}=Prob(O_{t}=\\alpha_{k}|\\psi_{t}=\\varphi_{i}).$$"
   ]
  },
  {
   "cell_type": "markdown",
   "metadata": {},
   "source": [
    "## Forward and Backward Algorithms \n",
    "## Problem 1, 2 and 3"
   ]
  },
  {
   "cell_type": "markdown",
   "metadata": {},
   "source": [
    "The foraward probability \n",
    "$$\n",
    "f(i,t)=Prob(\\psi_t=\\varphi_i,O_1,\\dots,O_t)\n",
    "$$\n",
    "can be compute from the recurrence relation:\n",
    "$$\n",
    "f(i,t+1)=q_i(O_{t+1})\\sum_{j=1}^{n}p_{ji}f(j,t),\n",
    "$$\n",
    "with base case\n",
    "$$\n",
    "f(i,1)=q_i(O_1).\n",
    "$$\n",
    "\n",
    "And the backward probability \n",
    "$$\n",
    "b(i,t)=Prob(O_{t+1},\\dots,O_T|\\psi_t=\\varphi_i)\n",
    "$$\n",
    "can be compute by the recurrence relation:\n",
    "$$\n",
    "b(i,t-1)=\\sum_{j=1}^{n}p_{ij}q_j(O_t)b(j,t).\n",
    "$$"
   ]
  },
  {
   "cell_type": "markdown",
   "metadata": {},
   "source": [
    "These recurrence relation can be proved as follow:\n",
    "\\begin{align}\n",
    "f(i,t+1)\n",
    "&=Prob(O_1,\\dots,O_{t+1},\\psi_{t+1}=\\varphi_i)\\\\\n",
    "&=Prob(O_{t+1}|O_1,\\dots,O_{t},\\psi_{t+1}=\\varphi_i)Prob(O_1,\\dots,O_{t},\\psi_{t+1}=\\varphi_i)\\\\\n",
    "&=Prob(O_{t+1}|\\psi_{t+1}=\\varphi_i)Prob(O_1,\\dots,O_{t},\\psi_{t+1}=\\varphi_i)\\\\\n",
    "&=q_i(O_{t+1})\\sum_{j=1}^{n}Prob(O_1,\\dots,O_{t},\\psi_{t}=\\varphi_j,\\psi_{t+1}=\\varphi_i)\\\\\n",
    "&=q_i(O_{t+1})\\sum_{j=1}^{n}Prob(\\psi_{t+1}=\\varphi_i|O_1,\\dots,O_{t},\\psi_{t}=\\varphi_j)Prob(O_1,\\dots,O_{t},\\psi_{t}=\\varphi_j)\\\\\n",
    "&=q_i(O_{t+1})\\sum_{j=1}^{n}Prob(\\psi_{t+1}=\\varphi_i|\\psi_{t}=\\varphi_j)Prob(O_1,\\dots,O_{t},\\psi_{t}=\\varphi_j)\\\\\n",
    "&=q_i(O_{t+1})\\sum_{j=1}^{n}p_{ji}f(j,t)\\\\\n",
    "\\end{align}\n",
    "\n",
    "\\\\\n",
    "\n",
    "\\begin{align}\n",
    "b(i,t-1)\n",
    "&=Prob(O_{t},\\dots,O_T|\\psi_{t-1}=\\varphi_i)\\\\\n",
    "&=Prob(O_{t},\\dots,O_T,\\psi_{t-1}=\\varphi_i)/Prob(\\psi_{t-1}=\\varphi_i)\\\\\n",
    "&=\\sum_{j=1}^{n}Prob(O_{t},\\dots,O_T,\\psi_{t-1}=\\varphi_i,\\psi_t=\\varphi_j)/Prob(\\psi_{t-1}=\\varphi_i)\\\\\n",
    "&=\\sum_{j=1}^{n}Prob(\\psi_{t-1}=\\varphi_i|O_{t},\\dots,O_T,\\psi_t=\\varphi_j)Prob(O_{t},\\dots,O_T,\\psi_t=\\varphi_j)/Prob(\\psi_{t-1}=\\varphi_i)\\\\\n",
    "&=\\sum_{j=1}^{n}Prob(\\psi_{t-1}=\\varphi_i|\\psi_t=\\varphi_j)Prob(O_{t},\\dots,O_T,\\psi_t=\\varphi_j)/Prob(\\psi_{t-1}=\\varphi_i)\\\\\n",
    "&=\\sum_{j=1}^{n}p_{ji}Prob(O_{t}|O_{t+1},\\dots,O_T,\\psi_t=\\varphi_j)Prob(O_{t+1}\\dots,O_T,\\psi_t=\\varphi_j)/Prob(\\psi_{t-1}=\\varphi_i)\\\\\n",
    "&=\\sum_{j=1}^{n}p_{ji}Prob(O_{t}|\\psi_t=\\varphi_j)Prob(O_{t+1}\\dots,O_T,\\psi_t=\\varphi_j)/Prob(\\psi_{t-1}=\\varphi_i)\\\\\n",
    "&=\\sum_{j=1}^{n}p_{ji}q_j(O_{t})Prob(O_{t+1}\\dots,O_T|\\psi_t=\\varphi_j)Prob(\\psi_t=\\varphi_j)/Prob(\\psi_{t-1}=\\varphi_i)\\\\\n",
    "&=\\sum_{j=1}^{n}\\frac{Prob(\\psi_{t-1}=\\varphi_i|\\psi_t=\\varphi_j)Prob(\\psi_t=\\varphi_j)}{Prob(\\psi_{t-1}=\\varphi_i)}q_j(O_{t})b(j,t)\\\\\n",
    "&=\\sum_{j=1}^{n}Prob(\\psi_t=\\varphi_j|\\psi_{t-1}=\\varphi_i)q_j(O_{t})b(j,t)\\\\\n",
    "&=\\sum_{j=1}^{n}p_{ij}q_j(O_{t})b(j,t)\\\\\n",
    "\\end{align}"
   ]
  },
  {
   "cell_type": "markdown",
   "metadata": {},
   "source": [
    "The matrix formulation is staightforawrd.\n",
    "\n",
    "Let $P=[P_{ji}=p_{ji}]$ and $F=[F_{jt}=f(j,t)]$.\n",
    "Then we have:\n",
    "\\begin{align}\n",
    "(P^{T}F)_{it}\n",
    "&=\n",
    "\\begin{bmatrix}\n",
    "P^T_{i1}\\\\\n",
    "P^T_{i2}\\\\\n",
    "\\vdots\\\\\n",
    "P^T_{in}\n",
    "\\end{bmatrix}\n",
    "\\cdot\n",
    "\\begin{bmatrix}\n",
    "F_{1t}\\\\\n",
    "F_{2t}\\\\\n",
    "\\vdots\\\\\n",
    "F_{nt}\n",
    "\\end{bmatrix}\n",
    "\\\\\n",
    "&=\\sum_{j=1}^{n}P^T_{ij}F_{jt}\\\\\n",
    "&=\\sum_{j=1}^{n}P_{ji}F_{jt}\\\\\n",
    "&=\\sum_{j=1}^{n}p_{ji}f(j,t)\n",
    "\\end{align}\n",
    "Therefore we can write the forward probability as:\n",
    "\\begin{align}\n",
    "f(i,t+1)\n",
    "&=q_i(O_{t+1})\\sum_{j=1}^{n}p_{ji}f(j,t)\\\\\n",
    "&=q_i(O_{t+1})(P^{T}F)_{it}\n",
    "\\end{align}"
   ]
  },
  {
   "cell_type": "code",
   "execution_count": 920,
   "metadata": {},
   "outputs": [],
   "source": [
    "import numpy as np\n",
    "\n",
    "def O(s):\n",
    "    ### This function create the string O_t of observables.\n",
    "    vec = np.zeros(len(s)+2)\n",
    "    vec[len(s)+1]=5\n",
    "    for n in range(0,len(s)):\n",
    "        if s[n] == 'A':\n",
    "            vec[n+1] = 1\n",
    "        elif s[n] == 'C':\n",
    "            vec[n+1] = 2\n",
    "        elif s[n] == 'G':\n",
    "            vec[n+1] = 3\n",
    "        elif s[n] == 'T':\n",
    "            vec[n+1] = 4\n",
    "    return vec\n",
    "\n",
    "IP1 = np.array([\n",
    "    [0,1,0,0],\n",
    "    [0,0.8,0.2,0],\n",
    "    [0,0,0.1,0.9],\n",
    "    [0,0,0,0]\n",
    "])\n",
    "### This is our initial guess of the transition probability.\n",
    "###'Begin' and 'End' states are added.\n",
    "\n",
    "IQ1 = np.array([\n",
    "    [1,0,0,0,0,0],\n",
    "    [0,0.4,0.1,0.1,0.4,0],\n",
    "    [0,0.1,0.4,0.4,0.1,0],\n",
    "    [0,0,0,0,0,1]\n",
    "])\n",
    "### This is our initial guess of the emission probability. \n",
    "###'Begin' and 'End' states are added.\n",
    "\n",
    "def F(P,Q,O,i,t):\n",
    "    ### This function calculate the forward probability.\n",
    "    if t > 0:\n",
    "        ### The general case.\n",
    "        return Q[i,np.int(O[t])]* sum(P[j,i]* F(P,Q,O,j,t-1) for j in range(0,4))\n",
    "    else:\n",
    "        ### The base case.\n",
    "        return Q[i,np.int(O[0])]\n",
    "        \n",
    "def B(P,Q,O,i,t):\n",
    "### This function calculate the backward probability.\n",
    "    if  t < 3:\n",
    "        ### The general case.\n",
    "        return sum(P[i,j]* Q[j,np.int(O[t+1])]* B(P,Q,O,j,t+1) for j in range(0,4))\n",
    "    elif t == 3:\n",
    "        ### The base case.\n",
    "        return P[i,3]\n",
    "    else:\n",
    "        return 0\n",
    "\n",
    "def FResults(P,Q,O):\n",
    "    ### This function collect all the forward probabilities.\n",
    "    M=np.zeros((4,5))\n",
    "    for i in range(0,4):\n",
    "        for t in range(0,5):\n",
    "            M[i,t]=F(P,Q,O,i,t)\n",
    "    return M\n",
    "\n",
    "def BResults(P,Q,O):\n",
    "    ### This function collect all the forward probabilities.\n",
    "    M=np.zeros((3,4))\n",
    "    for i in range(0,3):\n",
    "        for t in range(0,4):\n",
    "            M[i,t]=B(P,Q,O,i,t)\n",
    "    return M"
   ]
  },
  {
   "cell_type": "code",
   "execution_count": 921,
   "metadata": {},
   "outputs": [],
   "source": [
    "s='TAG'"
   ]
  },
  {
   "cell_type": "code",
   "execution_count": 922,
   "metadata": {},
   "outputs": [],
   "source": [
    "O=O(s)"
   ]
  },
  {
   "cell_type": "code",
   "execution_count": 925,
   "metadata": {},
   "outputs": [
    {
     "data": {
      "text/plain": [
       "array([[1.      , 0.      , 0.      , 0.      , 0.      ],\n",
       "       [0.      , 0.4     , 0.128   , 0.01024 , 0.      ],\n",
       "       [0.      , 0.      , 0.008   , 0.01056 , 0.      ],\n",
       "       [0.      , 0.      , 0.      , 0.      , 0.009504]])"
      ]
     },
     "execution_count": 925,
     "metadata": {},
     "output_type": "execute_result"
    }
   ],
   "source": [
    "FResults(IP1,IQ1,O)"
   ]
  },
  {
   "cell_type": "code",
   "execution_count": 924,
   "metadata": {},
   "outputs": [
    {
     "data": {
      "text/plain": [
       "array([[9.5040e-03, 2.8800e-02, 0.0000e+00, 0.0000e+00],\n",
       "       [7.6104e-03, 2.3760e-02, 7.2000e-02, 0.0000e+00],\n",
       "       [3.6000e-06, 3.6000e-04, 3.6000e-02, 9.0000e-01]])"
      ]
     },
     "execution_count": 924,
     "metadata": {},
     "output_type": "execute_result"
    }
   ],
   "source": [
    "BResults(IP1,IQ1,O)"
   ]
  },
  {
   "cell_type": "markdown",
   "metadata": {},
   "source": [
    "All the results given by the function defined above match the results listed on the syllabus."
   ]
  },
  {
   "cell_type": "markdown",
   "metadata": {},
   "source": [
    "## Protein Alignment\n",
    "## Problem 4"
   ]
  },
  {
   "cell_type": "markdown",
   "metadata": {},
   "source": [
    "Given Proteins:\n",
    "\\begin{align*}\n",
    "&WRCCTGC\\\\\n",
    "&WCCGGCC\\\\\n",
    "&WCGCC\\\\\n",
    "&WCCCGCC\\\\\n",
    "&WCCGC\n",
    "\\end{align*}\n",
    "with the most likely paths respectively:\n",
    "\\begin{align*}\n",
    "&M_{0}M_{1}I_{1}M_{2}M_{3}M_{4}M_{5}D_{6}M_{7}M_{8}\\\\\n",
    "&M_{0}M_{1}M_{2}M_{3}M_{4}M_{5}M_{6}M_{7}M_{8}\\\\\n",
    "&M_{0}M_{1}M_{2}D_{3}D_{4}M_{5}M_{6}M_{7}M_{8}\\\\\n",
    "&M_{0}M_{1}M_{2}M_{3}M_{4}M_{5}M_{6}M_{7}M_{8}\\\\\n",
    "&M_{0}M_{1}M_{2}M_{3}D_{4}M_{5}D_{6}M_{7}M_{8}\n",
    "\\end{align*}\n",
    "\n",
    "By aligning the positions, we have:\n",
    "\\begin{matrix}\n",
    "W&R&C&C&T&G&-&C\\\\\n",
    "W&-&C&C&G&G&C&C\\\\\n",
    "W&-&C&-&-&G&C&C\\\\\n",
    "W&-&C&C&C&G&C&C\\\\\n",
    "W&-&C&C&-&G&-&C\n",
    "\\end{matrix}"
   ]
  },
  {
   "cell_type": "markdown",
   "metadata": {},
   "source": [
    "## Baum-Welch Algorithm \n",
    "## Problem 5"
   ]
  },
  {
   "cell_type": "markdown",
   "metadata": {},
   "source": [
    "### Claim\n",
    "Claim that the $k^{th}$ model $\\Theta^{(k)}$ is non-trivial implies that the $(k+1)^{th}$ model $\\Theta^{(k+1)}$ is non-triviall as well.\n",
    "\n",
    "### Proof: \n",
    "By Reductio ad Absurdum, suppose for some $k$, the $k^{th}$ model is non-trivial, but $(k+1^{th})$ is not.\n",
    "\n",
    "Since we've assumed that $\\Theta^{(k+1)}$ is not non-trivial, by definition, there exsists some state $\\psi_x$ that could reached from $0$, but there is no path from $\\psi_x$ to 0 with positive probability.\n",
    "\n",
    "By the contrapositive statement of Lemma 1, each transition along the path from 0 to $\\psi_x$ in model $\\Theta^{(k)}$ have positive probability, which implies the state $\\psi_x$ can also be reached from 0 in the old model.\n",
    "\n",
    "By hypothesis, $\\Theta^{(k)}$ is non-trivial, then there exists a path from state $\\psi_x$ to $0$ with positive probability. Then, by Lemma 2, the transition probability of each step $p_{ij}^{(k+1)}$ is positive, therefore their product is positive, hence the resulting path from $\\psi_x$ to $0$ should be with a positive probability, which causes a contradiction.\n",
    "\n",
    "### Lemma 1\n",
    "\\begin{equation}\n",
    "p_{ij}^{(k)}=0 \\implies p_{ij}^{(k+1)}=0\n",
    "\\end{equation}\n",
    "### Proof:\n",
    "If $p_{ij}^{(k)}=0$, then by definition, for all $t$, $Prob(\\psi^{(k)}_t=\\varphi_i,\\psi^{(k)}_{t+1}=\\varphi_j)=0$. Therefore $N_{ij}=|\\{t|Prob(\\psi^{(k)}_t+1=\\varphi_j|\\psi^{(k)}_{t}=\\varphi_i)\\ne0\\}|=0$, since the condition has a probability of 0 to be true. \n",
    "\n",
    "$p_{ij}^{(k+1)}=E(N_{ij}|O_t)/E(N_{i}|O_t)\\ne0$\n",
    "\n",
    "Then $N_{ij}^{(k)}=0$ is of probability one. Then $E(N_{ij}^{(k)}|\\{O_t\\})$ equals to the expected value of $N_{ij}^{(k)}=0$ with a condition $\\{O_t\\}$, which is 0 obviously. Then by definition, $p_{ij}^{(k+1)}=0$, which verified this Lemma.\n",
    "\n",
    "### Lemma 2\n",
    "$$\n",
    "p_{ij}^{(k)} \\ne 0 \\implies p_{ij}^{(k+1)} \\ne 0\n",
    "$$\n",
    "### Proof:\n",
    "If $p_{ij}^{(k)}\\ne0$, then by definition, for all $t$, $Prob(\\psi^{(k)}_t=\\varphi_i,\\psi^{(k)}_{t+1}=\\varphi_j)\\ne0$. Therefore $N_{ij}=|\\{t|Prob(\\psi^{(k)}_t+1=\\varphi_j|\\psi^{(k)}_{t}=\\varphi_i)\\ne0\\}|\\ne0$. By definition, $p_{ij}^{(k+1)}=\\frac{E(N_{ij}|O_t)}{E(N_{i}|O_t)}$. Since $O_t$ is independent from the behaviour of $\\psi^{(k)}_{t}$ and $\\psi^{(k)}_{t+1}$, $N_{ij}\\ne 0$ implies E(N_{ij}|O_t) to be nonzero, which implies $p_{ij}^{(k+1)}$ is non zero."
   ]
  },
  {
   "cell_type": "markdown",
   "metadata": {},
   "source": [
    "## HMM Dynamic##\n",
    "## Problem 6"
   ]
  },
  {
   "cell_type": "markdown",
   "metadata": {},
   "source": [
    "The initial transition and emission matrices are given by:"
   ]
  },
  {
   "cell_type": "code",
   "execution_count": 870,
   "metadata": {},
   "outputs": [],
   "source": [
    "IP2=np.array([\n",
    "[0,0.2,0,0,0.1,0,0,0,0.7,0,0,0],\n",
    "[0,0,0,0,0,0,0,0,0,1,0,0],\n",
    "[0,0,0,0,0,0,0,0,0,0,1,0],\n",
    "[0,0,0,0,0,0,0,0,0,0,0,1],\n",
    "[0,0,0,0,0,0,0,0,1,0,0,0],\n",
    "[0,0,0,0,0,0,0,0,0,1,0,0],\n",
    "[0,0,0,0,0,0,0,0,0,0,1,0],\n",
    "[0,0,0,0,0,0,0,0,0,0,0,1],\n",
    "[0,0,0.2,0,0,0.1,0,0,0,0.7,0,0],\n",
    "[0,0,0,0.2,0,0,0.1,0,0,0,0.7,0],\n",
    "[0,0,0,0,0,0,0,0.1,0,0,0,0.9]\n",
    "])\n",
    "\n",
    "IQ2=np.array([\n",
    "[0,0,0,0],\n",
    "[0,0,0,0],\n",
    "[0,0,0,0],\n",
    "[0,0,0,0],\n",
    "[0.25,0.25,0.25,0.25],\n",
    "[0.25,0.25,0.25,0.25],\n",
    "[0.25,0.25,0.25,0.25],\n",
    "[0.25,0.25,0.25,0.25],\n",
    "[0.1,0.2,0.2,0.5],\n",
    "[0.4,0.3,0.1,0.1],\n",
    "[0.1,0.4,0.4,0.1],\n",
    "[0,0,0,0],\n",
    "])"
   ]
  },
  {
   "cell_type": "markdown",
   "metadata": {},
   "source": [
    "The probability of the sequence TAG through match states is given by:\n",
    "$$\n",
    "Prob1(TAG)=0.5*0.7*0.4*0.7*0.4=0.0392.\n",
    "$$\n",
    "The probability of TAG through $\\mathfrak{B}$, first insert state, a match state and then one delete state, then to a match state is given by:\n",
    "$$\n",
    "Prob2(TAG)=0.1*0.25*0.1*0.2*0.4=0.0002.\n",
    "$$\n",
    "The first path is more likely to give the observed sequence TAG.\n",
    "The ratio between two probability is given by\n",
    "$$\n",
    "\\frac{Prob1(TAG)}{Prob2(TAG)}=196\n",
    "$$"
   ]
  }
 ],
 "metadata": {
  "kernelspec": {
   "display_name": "Python 3",
   "language": "python",
   "name": "python3"
  },
  "language_info": {
   "codemirror_mode": {
    "name": "ipython",
    "version": 3
   },
   "file_extension": ".py",
   "mimetype": "text/x-python",
   "name": "python",
   "nbconvert_exporter": "python",
   "pygments_lexer": "ipython3",
   "version": "3.7.3"
  }
 },
 "nbformat": 4,
 "nbformat_minor": 2
}
