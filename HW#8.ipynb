{
 "cells": [
  {
   "cell_type": "markdown",
   "metadata": {},
   "source": [
    "# MA770 Mathematical and Statistical Methods of Bioinformatics\n",
    "# Problem Set 8\n",
    "### Cheng, Wanli U31865818"
   ]
  },
  {
   "cell_type": "markdown",
   "metadata": {},
   "source": [
    "# Support Vector Machine"
   ]
  },
  {
   "cell_type": "code",
   "execution_count": 5,
   "metadata": {},
   "outputs": [],
   "source": [
    "# Load modules we'll need.\n",
    "\n",
    "import matplotlib.pyplot as plt\n",
    "import numpy as np\n",
    "from sklearn import svm"
   ]
  },
  {
   "cell_type": "markdown",
   "metadata": {},
   "source": [
    "<b>Generate the Training Set</b>"
   ]
  },
  {
   "cell_type": "code",
   "execution_count": 6,
   "metadata": {},
   "outputs": [],
   "source": [
    "# Generate the Random Matrix X\n",
    "XTrain=10*np.random.random((50,50))-5\n",
    "\n",
    "# Define the labels y\n",
    "def y(x):\n",
    "    if np.sum(x) >= 0:\n",
    "        return 1\n",
    "    else:\n",
    "        return -1\n",
    "    \n",
    "# Create the data Label set Y\n",
    "def Y(X):\n",
    "    (M,N)=np.shape(X)\n",
    "    Y=np.zeros(M)\n",
    "    for m in range(M):\n",
    "        Y[m]=Y[m]+[y(X[m])]\n",
    "    return Y\n",
    "\n",
    "YTrain=Y(XTrain)"
   ]
  },
  {
   "cell_type": "markdown",
   "metadata": {},
   "source": [
    "## (a) Train the SVM Classifer"
   ]
  },
  {
   "cell_type": "code",
   "execution_count": 7,
   "metadata": {},
   "outputs": [
    {
     "data": {
      "text/plain": [
       "SVC(C=1.0, cache_size=200, class_weight=None, coef0=0.0,\n",
       "    decision_function_shape='ovr', degree=3, gamma='auto_deprecated',\n",
       "    kernel='linear', max_iter=-1, probability=False, random_state=None,\n",
       "    shrinking=True, tol=0.001, verbose=False)"
      ]
     },
     "execution_count": 7,
     "metadata": {},
     "output_type": "execute_result"
    }
   ],
   "source": [
    "clf = svm.SVC(kernel='linear')\n",
    "clf.fit(XTrain,YTrain)"
   ]
  },
  {
   "cell_type": "markdown",
   "metadata": {},
   "source": [
    "## (b) Explain SVM"
   ]
  },
  {
   "cell_type": "markdown",
   "metadata": {},
   "source": [
    "Given a hyperplane $\\mathbb{R}^{n-1}$ trained by the SVM in feature space $\\mathbb{R}^n$, the feature space is divided into two half hyperplanes $\\mathcal{H}_+^n$ and $\\mathcal{H}_-^n$. Then the classification rule is:\n",
    "$$\n",
    "y(\\mathbf{x})=\n",
    "\\begin{cases}\n",
    "+1\\quad\\text{if}\\quad \\mathbf{x}\\in\\mathcal{H}_+^n\\\\\n",
    "-1\\quad\\text{if}\\quad \\mathbf{x}\\in\\mathcal{H}_-^n\n",
    "\\end{cases}\n",
    "$$\n",
    "for all $\\mathbf{x}\\in\\mathbb{R}^n$.\n",
    "\n",
    "In the $2\\times2$ case, our feature space is $[-5,5]^2\\subset\\mathbb{R}^2$.\n",
    "\n",
    "Thus, the hyperplane that separatet the two labels is a line $l\\in\\mathbb{R}^2$ such that $l\\cap[-5,5]^2\\ne\\emptyset$.\n",
    "\n",
    "By hypothesis, $\\forall\\mathbf{x}=(x_1,x_2)\\in[-5,5]^2$, we have\n",
    "$$\n",
    "y(\\mathbf{x})=\n",
    "\\begin{cases}\n",
    "+1\\quad\\text{if}\\quad x_1+x_2\\ge0\\\\\n",
    "-1\\quad\\text{if}\\quad x_1+x_2<0\n",
    "\\end{cases}\n",
    "$$\n",
    "which implies that the points with different $y$ values are separated by the solution of the linear equation:\n",
    "$$\n",
    "x_1+x_2=0.\n",
    "$$\n",
    "\n",
    "Therefore, the hyperplane we are looking for is the principle diagonal of the grid $[-5,5]^2$."
   ]
  },
  {
   "cell_type": "markdown",
   "metadata": {},
   "source": [
    "## (c) Test the SVM"
   ]
  },
  {
   "cell_type": "markdown",
   "metadata": {},
   "source": [
    "<b> Generate the Testing Set </b>"
   ]
  },
  {
   "cell_type": "code",
   "execution_count": 8,
   "metadata": {},
   "outputs": [],
   "source": [
    "XTest=10*np.random.random((50,50))-5"
   ]
  },
  {
   "cell_type": "code",
   "execution_count": 9,
   "metadata": {},
   "outputs": [
    {
     "data": {
      "text/plain": [
       "array([-1., -1.,  1.,  1., -1.,  1., -1., -1.,  1.,  1., -1.,  1., -1.,\n",
       "       -1.,  1., -1., -1.,  1.,  1., -1.,  1., -1.,  1., -1., -1., -1.,\n",
       "        1., -1.,  1.,  1.,  1., -1.,  1., -1.,  1.,  1.,  1.,  1.,  1.,\n",
       "       -1.,  1., -1.,  1.,  1., -1., -1.,  1.,  1., -1.,  1.])"
      ]
     },
     "execution_count": 9,
     "metadata": {},
     "output_type": "execute_result"
    }
   ],
   "source": [
    "clf.predict(XTest)"
   ]
  },
  {
   "cell_type": "code",
   "execution_count": 10,
   "metadata": {},
   "outputs": [
    {
     "data": {
      "text/plain": [
       "array([-2., -2.,  2.,  0.,  0.,  0.,  0.,  0.,  0.,  0.,  0.,  0.,  0.,\n",
       "       -2.,  0.,  0.,  0.,  2.,  0.,  0.,  0.,  0.,  0.,  0.,  0.,  0.,\n",
       "        2.,  0.,  0.,  2.,  0.,  0.,  2.,  0.,  0.,  0.,  2.,  0.,  0.,\n",
       "        0.,  0.,  0.,  2.,  0.,  0.,  0.,  2.,  0.,  0.,  2.])"
      ]
     },
     "execution_count": 10,
     "metadata": {},
     "output_type": "execute_result"
    }
   ],
   "source": [
    "clf.predict(XTest)-Y(XTest)"
   ]
  },
  {
   "cell_type": "markdown",
   "metadata": {},
   "source": [
    "The accuracy of the classifier is around 0.5."
   ]
  },
  {
   "cell_type": "markdown",
   "metadata": {},
   "source": [
    "## (d) Confusion Matrix"
   ]
  },
  {
   "cell_type": "code",
   "execution_count": 11,
   "metadata": {},
   "outputs": [],
   "source": [
    "def CfM(X,classifier):\n",
    "    TP=0\n",
    "    FP=0\n",
    "    TN=0\n",
    "    FN=0\n",
    "    (M,N)=np.shape(X)\n",
    "    for m in range(M):\n",
    "        if classifier.predict(X)[m] == Y(X)[m]:\n",
    "            if classifier.predict(X)[m] == 1:\n",
    "                TP=TP+1\n",
    "            else:\n",
    "                TN=TN+1\n",
    "        else:\n",
    "            if classifier.predict(X)[m] == 1:\n",
    "                FP=FP+1\n",
    "            else:\n",
    "                FN=FN+1\n",
    "    return np.array([[TP,FP],[TN,FN]])"
   ]
  },
  {
   "cell_type": "code",
   "execution_count": 12,
   "metadata": {},
   "outputs": [
    {
     "data": {
      "text/plain": [
       "array([[18,  9],\n",
       "       [20,  3]])"
      ]
     },
     "execution_count": 12,
     "metadata": {},
     "output_type": "execute_result"
    }
   ],
   "source": [
    "CfM(XTest,clf)"
   ]
  },
  {
   "cell_type": "markdown",
   "metadata": {},
   "source": [
    "## (e) Measure the Accuracy"
   ]
  },
  {
   "cell_type": "code",
   "execution_count": 13,
   "metadata": {},
   "outputs": [],
   "source": [
    "def Accuracy(X,classifier):\n",
    "    (M,N)=np.shape(X)\n",
    "    A=1-np.linalg.norm((1/2)*(classifier.predict(X)-Y(X)),1)/M\n",
    "    return A"
   ]
  },
  {
   "cell_type": "code",
   "execution_count": 14,
   "metadata": {},
   "outputs": [
    {
     "data": {
      "text/plain": [
       "0.76"
      ]
     },
     "execution_count": 14,
     "metadata": {},
     "output_type": "execute_result"
    }
   ],
   "source": [
    "Accuracy(XTest,clf)"
   ]
  },
  {
   "cell_type": "markdown",
   "metadata": {},
   "source": [
    "## （f） Size of Training Set"
   ]
  },
  {
   "cell_type": "markdown",
   "metadata": {},
   "source": [
    "Here we experiment the SVM classifier with trianing set of different sizes."
   ]
  },
  {
   "cell_type": "code",
   "execution_count": 29,
   "metadata": {},
   "outputs": [],
   "source": [
    "XTrainRed10=10*np.random.random((1024,50))-5\n",
    "XTrainRed9=10*np.random.random((512,50))-5\n",
    "XTrainRed8=10*np.random.random((256,50))-5\n",
    "XTrainRed7=10*np.random.random((128,50))-5\n",
    "XTrainRed6=10*np.random.random((64,50))-5\n",
    "XTrainRed5=10*np.random.random((32,50))-5\n",
    "XTrainRed4=10*np.random.random((16,50))-5\n",
    "XTrainRed3=10*np.random.random((8,50))-5\n",
    "XTrainRed2=10*np.random.random((4,50))-5\n",
    "XTrainRed1=10*np.random.random((2,50))-5"
   ]
  },
  {
   "cell_type": "code",
   "execution_count": 30,
   "metadata": {},
   "outputs": [
    {
     "data": {
      "text/plain": [
       "SVC(C=1.0, cache_size=200, class_weight=None, coef0=0.0,\n",
       "    decision_function_shape='ovr', degree=3, gamma='auto_deprecated',\n",
       "    kernel='linear', max_iter=-1, probability=False, random_state=None,\n",
       "    shrinking=True, tol=0.001, verbose=False)"
      ]
     },
     "execution_count": 30,
     "metadata": {},
     "output_type": "execute_result"
    }
   ],
   "source": [
    "clf10 = svm.SVC(kernel='linear')\n",
    "clf10.fit(XTrainRed10,Y(XTrainRed10))\n",
    "\n",
    "clf9 = svm.SVC(kernel='linear')\n",
    "clf9.fit(XTrainRed9,Y(XTrainRed9))\n",
    "\n",
    "clf8 = svm.SVC(kernel='linear')\n",
    "clf8.fit(XTrainRed8,Y(XTrainRed8))\n",
    "\n",
    "clf7 = svm.SVC(kernel='linear')\n",
    "clf7.fit(XTrainRed7,Y(XTrainRed7))\n",
    "\n",
    "clf6 = svm.SVC(kernel='linear')\n",
    "clf6.fit(XTrainRed6,Y(XTrainRed6))\n",
    "\n",
    "clf5 = svm.SVC(kernel='linear')\n",
    "clf5.fit(XTrainRed5,Y(XTrainRed5))\n",
    "\n",
    "clf4 = svm.SVC(kernel='linear')\n",
    "clf4.fit(XTrainRed4,Y(XTrainRed4))\n",
    "\n",
    "clf3 = svm.SVC(kernel='linear')\n",
    "clf3.fit(XTrainRed3,Y(XTrainRed3))\n",
    "\n",
    "clf2 = svm.SVC(kernel='linear')\n",
    "clf2.fit(XTrainRed2,Y(XTrainRed2))\n",
    "\n",
    "clf1 = svm.SVC(kernel='linear')\n",
    "clf1.fit(XTrainRed1,Y(XTrainRed1))"
   ]
  },
  {
   "cell_type": "code",
   "execution_count": 33,
   "metadata": {},
   "outputs": [],
   "source": [
    "def AccuracyList(X):\n",
    "    return np.array([Accuracy(X,clf1),Accuracy(X,clf2),Accuracy(X,clf3),Accuracy(X,clf4),Accuracy(X,clf5),\n",
    "                    Accuracy(X,clf6),Accuracy(X,clf7),Accuracy(X,clf8),Accuracy(X,clf9),Accuracy(X,clf10)])"
   ]
  },
  {
   "cell_type": "code",
   "execution_count": 34,
   "metadata": {},
   "outputs": [
    {
     "data": {
      "image/png": "[encoded data removed]",
      "text/plain": [
       "<Figure size 432x288 with 1 Axes>"
      ]
     },
     "metadata": {
      "needs_background": "light"
     },
     "output_type": "display_data"
    }
   ],
   "source": [
    "plt.plot(AccuracyList(10*np.random.random((50,50))-5))\n",
    "plt.ylabel('Accuracy')\n",
    "plt.xlabel('Size of Traininf Set [2^n]');"
   ]
  },
  {
   "cell_type": "markdown",
   "metadata": {},
   "source": [
    "The above graph shows the growth of accuracy with respect to the growth in size of training set.\n",
    "\n",
    "We can see that the growth of the prediction accuracy is not monotonic, which implies that when we have few datapoints, e.g., less than twenty, then sometimes 8 data points can produce a better guess than 16 data points. In other words, the prediction accuracy is not stable when we have very few training data.\n",
    "\n",
    "And the overall trends indicated that the bigger the training set, the better our prediction we can make, especially when we have a training set with more data points than the number of features.\n",
    "\n",
    "Another crucial thing is that SVM classifier need at least a positive sample and a negative sample to simulate the hyperspace we need, when the data set is too small (compare to the number of labels), it is highly possible that the SVM classifier cannot properly find a model. E.g., in this particular example, we have two labels, therefore, for we only have 2 or 4 datapoints, there is 50% or 12.5% probability that we cannot properly generate a model."
   ]
  }
 ],
 "metadata": {
  "kernelspec": {
   "display_name": "Python 3",
   "language": "python",
   "name": "python3"
  },
  "language_info": {
   "codemirror_mode": {
    "name": "ipython",
    "version": 3
   },
   "file_extension": ".py",
   "mimetype": "text/x-python",
   "name": "python",
   "nbconvert_exporter": "python",
   "pygments_lexer": "ipython3",
   "version": "3.7.6"
  }
 },
 "nbformat": 4,
 "nbformat_minor": 2
}
