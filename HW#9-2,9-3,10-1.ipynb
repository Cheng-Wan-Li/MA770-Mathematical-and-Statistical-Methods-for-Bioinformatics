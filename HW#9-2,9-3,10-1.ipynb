{
 "cells": [
  {
   "cell_type": "markdown",
   "metadata": {},
   "source": [
    "# MA770 Mathematical and Statistical Methods of Bioinformatics\n",
    "# Problem Set 9.2, 9.3 & 10.1\n",
    "### Cheng, Wanli U31865818"
   ]
  },
  {
   "cell_type": "markdown",
   "metadata": {},
   "source": [
    "# Golub Dataset\n",
    "# Support Vector Machine & $k$-Nearest Neighbour"
   ]
  },
  {
   "cell_type": "code",
   "execution_count": 453,
   "metadata": {},
   "outputs": [],
   "source": [
    "# Load modules we'll need.\n",
    "\n",
    "import pandas as pd\n",
    "import matplotlib.pyplot as plt\n",
    "import numpy as np\n",
    "from sklearn import svm\n",
    "from sklearn.neighbors import KNeighborsClassifier\n",
    "from sklearn.metrics import roc_auc_score"
   ]
  },
  {
   "cell_type": "markdown",
   "metadata": {},
   "source": [
    "## 9.2 ML on Golub datasets"
   ]
  },
  {
   "cell_type": "markdown",
   "metadata": {},
   "source": [
    "### Prepare the Dataset"
   ]
  },
  {
   "cell_type": "code",
   "execution_count": 454,
   "metadata": {},
   "outputs": [],
   "source": [
    "# Import the Golub datasets\n",
    "\n",
    "Tr = open('GolubTr.txt', 'r')\n",
    "Train = Tr.read()\n",
    "GolubTrain=Train.split()\n",
    "\n",
    "Te = open('GolubTe.txt', 'r')\n",
    "Test = Te.read()\n",
    "GolubTest=Test.split()"
   ]
  },
  {
   "cell_type": "code",
   "execution_count": 455,
   "metadata": {},
   "outputs": [],
   "source": [
    "# Generate the whole data set\n",
    "\n",
    "def Para(s):\n",
    "    if s[:3]=='ALL':\n",
    "        return 1\n",
    "    elif s[:3]=='AML':\n",
    "        return -1\n",
    "    else:\n",
    "        return False\n",
    "\n",
    "def Y(D1,D2):\n",
    "    Y=np.zeros(72)\n",
    "    for m in range(72):\n",
    "        if m <38:\n",
    "            Y[m]=Y[m]+Para(D1[3+m])\n",
    "        else:\n",
    "            Y[m]=Y[m]+Para(D2[3+m-38])\n",
    "    return Y\n",
    "\n",
    "def X(D1,D2):\n",
    "    X=np.zeros((72,7129))\n",
    "    for m in range(72):\n",
    "        if m <38:\n",
    "            for n in range(7129):\n",
    "                X[m,n]=X[m,n]+int(D1[42+m+39*n])\n",
    "        else:\n",
    "            for n in range(7129):\n",
    "                X[m,n]=X[m,n]+int(D2[m+35*n])\n",
    "    return X"
   ]
  },
  {
   "cell_type": "code",
   "execution_count": 456,
   "metadata": {},
   "outputs": [],
   "source": [
    "# Separate and Normalize the data sets\n",
    "XData=X(GolubTrain,GolubTest)/1000\n",
    "YData=Y(GolubTrain,GolubTest)"
   ]
  },
  {
   "cell_type": "markdown",
   "metadata": {},
   "source": [
    "### Divide The Training set and Test set"
   ]
  },
  {
   "cell_type": "markdown",
   "metadata": {},
   "source": [
    "Since the data set is sparse, it is very easy to have overfitting.\n",
    "\n",
    "By experiment the different division of training and test set, we find that a ratio of $36:36$ is optimal."
   ]
  },
  {
   "cell_type": "code",
   "execution_count": 457,
   "metadata": {},
   "outputs": [],
   "source": [
    "# Separate the Training Set and the Testing Set\n",
    "\n",
    "def Comp(L1,L2):\n",
    "    for a in L2:\n",
    "        L1=np.delete(L1,np.where(L1==a))\n",
    "    return L1\n",
    "\n",
    "def TrTe(k,X,Y):\n",
    "    D = np.empty(4, dtype=object)\n",
    "    (M,N) = np.shape(X)\n",
    "    SampleTr=np.sort(np.random.choice(M, k, replace=False))\n",
    "    SampleTe=Comp(np.arange(M),SampleTr)\n",
    "    XTr=np.zeros((k,N))\n",
    "    XTe=np.zeros((M-k,N))\n",
    "    YTr=np.zeros(k)\n",
    "    YTe=np.zeros(M-k)\n",
    "    for n in np.arange(M):\n",
    "        if n in np.arange(k):\n",
    "            XTr[n]=XTr[n]+X[SampleTr[n]]\n",
    "            YTr[n]=YTr[n]+Y[SampleTr[n]]\n",
    "        else:\n",
    "            XTe[n-k]=XTe[n-k]+X[SampleTe[n-k]]\n",
    "            YTe[n-k]=YTe[n-k]+Y[SampleTe[n-k]]\n",
    "    D[0]=XTr\n",
    "    D[1]=YTr\n",
    "    D[2]=XTe\n",
    "    D[3]=YTe\n",
    "    return D"
   ]
  },
  {
   "cell_type": "code",
   "execution_count": 458,
   "metadata": {},
   "outputs": [],
   "source": [
    "# Construct a particular example of Training and Testing sets\n",
    "XTrain=TrTe(36,XData,YData)[0]\n",
    "YTrain=TrTe(36,XData,YData)[1]\n",
    "XTest=TrTe(36,XData,YData)[2]\n",
    "YTest=TrTe(36,XData,YData)[3]"
   ]
  },
  {
   "cell_type": "markdown",
   "metadata": {},
   "source": [
    "### Measures of the Performance"
   ]
  },
  {
   "cell_type": "code",
   "execution_count": 459,
   "metadata": {},
   "outputs": [],
   "source": [
    "def Accuracy(X,Y,classifier):\n",
    "    (M,N)=np.shape(X)\n",
    "    TP=0\n",
    "    TN=0\n",
    "    for m in np.arange(M):\n",
    "        if Y[m]==1 and classifier.predict(X)[m]==1:\n",
    "            TP=TP+1\n",
    "        if Y[m]==-1 and classifier.predict(X)[m]==-1:\n",
    "            TN=TN+1\n",
    "    return (TP+TN)/M\n",
    "\n",
    "def PPV(X,Y,classifier):\n",
    "    (M,N)=np.shape(X)\n",
    "    TP=0\n",
    "    FP=0\n",
    "    for m in np.arange(M):\n",
    "        if Y[m]==1 and classifier.predict(X)[m]==1:\n",
    "            TP=TP+1\n",
    "        if Y[m]==-1 and classifier.predict(X)[m]==1:\n",
    "            FP=FP+1\n",
    "    return TP/(TP+FP)\n",
    "\n",
    "def Sens(X,Y,classifier):\n",
    "    (M,N)=np.shape(X)\n",
    "    TP=0\n",
    "    FN=0\n",
    "    for m in np.arange(M):\n",
    "        if Y[m]==1 and classifier.predict(X)[m]==1:\n",
    "            TP=TP+1\n",
    "        if Y[m]==1 and classifier.predict(X)[m]==-1:\n",
    "            FN=FN+1\n",
    "    return TP/(TP+FN)\n",
    "\n",
    "\n",
    "def CfM(X,Y,classifier):\n",
    "    TP=0\n",
    "    FP=0\n",
    "    TN=0\n",
    "    FN=0\n",
    "    (M,N)=np.shape(X)\n",
    "    for m in range(M):\n",
    "        if classifier.predict(X)[m] == Y[m]:\n",
    "            if classifier.predict(X)[m] == 1:\n",
    "                TP=TP+1\n",
    "            else:\n",
    "                TN=TN+1\n",
    "        else:\n",
    "            if classifier.predict(X)[m] == 1:\n",
    "                FP=FP+1\n",
    "            else:\n",
    "                FN=FN+1\n",
    "    return np.array([[TP,FP],[TN,FN]])"
   ]
  },
  {
   "cell_type": "markdown",
   "metadata": {},
   "source": [
    "### Support Vector Machines"
   ]
  },
  {
   "cell_type": "markdown",
   "metadata": {},
   "source": [
    "#### Train the SVM"
   ]
  },
  {
   "cell_type": "code",
   "execution_count": 460,
   "metadata": {},
   "outputs": [
    {
     "data": {
      "text/plain": [
       "SVC(C=1.0, cache_size=200, class_weight=None, coef0=0.0,\n",
       "    decision_function_shape='ovr', degree=3, gamma='auto_deprecated',\n",
       "    kernel='linear', max_iter=-1, probability=False, random_state=None,\n",
       "    shrinking=True, tol=0.001, verbose=False)"
      ]
     },
     "execution_count": 460,
     "metadata": {},
     "output_type": "execute_result"
    }
   ],
   "source": [
    "ModelLinear= svm.SVC(C=1.0,kernel='linear')\n",
    "ModelLinear.fit(XTrain,YTrain)"
   ]
  },
  {
   "cell_type": "markdown",
   "metadata": {},
   "source": [
    "#### Test the SVM"
   ]
  },
  {
   "cell_type": "code",
   "execution_count": 461,
   "metadata": {},
   "outputs": [
    {
     "data": {
      "text/plain": [
       "0.75"
      ]
     },
     "execution_count": 461,
     "metadata": {},
     "output_type": "execute_result"
    }
   ],
   "source": [
    "Accuracy(XTest,YTest,ModelLinear)"
   ]
  },
  {
   "cell_type": "markdown",
   "metadata": {},
   "source": [
    "### $k$-Nearest Neighbors"
   ]
  },
  {
   "cell_type": "markdown",
   "metadata": {},
   "source": [
    "We tried different $k$ values for the $k$NN algorithm. However, we can't observe any explicit pattern between the parameter $k$ and the performance of the model. Since we've tried different division of the dataset, sometiems the performance increase with $k$ increase, sometimes vice versa. In many cases, the change is monotonic, but in general, it is not(we've observed soem counter example)."
   ]
  },
  {
   "cell_type": "code",
   "execution_count": 462,
   "metadata": {},
   "outputs": [
    {
     "data": {
      "text/plain": [
       "KNeighborsClassifier(algorithm='auto', leaf_size=30, metric='minkowski',\n",
       "                     metric_params=None, n_jobs=None, n_neighbors=15, p=2,\n",
       "                     weights='uniform')"
      ]
     },
     "execution_count": 462,
     "metadata": {},
     "output_type": "execute_result"
    }
   ],
   "source": [
    "kNN1 = KNeighborsClassifier(n_neighbors=1)\n",
    "kNN1.fit(XTrain,YTrain)\n",
    "kNN5 = KNeighborsClassifier(n_neighbors=5)\n",
    "kNN5.fit(XTrain,YTrain)\n",
    "kNN10 = KNeighborsClassifier(n_neighbors=10)\n",
    "kNN10.fit(XTrain,YTrain)\n",
    "kNN15 = KNeighborsClassifier(n_neighbors=15)\n",
    "kNN15.fit(XTrain,YTrain)"
   ]
  },
  {
   "cell_type": "code",
   "execution_count": 463,
   "metadata": {},
   "outputs": [
    {
     "data": {
      "text/plain": [
       "<matplotlib.legend.Legend at 0x1a2744c470>"
      ]
     },
     "execution_count": 463,
     "metadata": {},
     "output_type": "execute_result"
    },
    {
     "data": {
      "image/png": "[encoded data removed]",
      "text/plain": [
       "<Figure size 432x288 with 1 Axes>"
      ]
     },
     "metadata": {
      "needs_background": "light"
     },
     "output_type": "display_data"
    }
   ],
   "source": [
    "AMods=[Accuracy(XTest,YTest,kNN1),Accuracy(XTest,YTest,kNN5),Accuracy(XTest,YTest,kNN10),Accuracy(XTest,YTest,kNN15)]\n",
    "PMods=[PPV(XTest,YTest,kNN1),PPV(XTest,YTest,kNN5),PPV(XTest,YTest,kNN10),PPV(XTest,YTest,kNN15)]\n",
    "SMods=[Sens(XTest,YTest,kNN1),Sens(XTest,YTest,kNN5),Sens(XTest,YTest,kNN10),Sens(XTest,YTest,kNN15)]\n",
    "LabRed=['1','5','10','15']\n",
    "plt.plot(LabRed,AMods,label='Accuracy')\n",
    "plt.plot(LabRed,PMods,label='Positive Predictive Value')\n",
    "plt.plot(LabRed,SMods,label='Sensitivity')\n",
    "plt.xlabel('k')\n",
    "plt.ylabel('Ratio');\n",
    "plt.legend(title='Performance in terms of')"
   ]
  },
  {
   "cell_type": "markdown",
   "metadata": {},
   "source": [
    "## 9.3 & 10.1 More on SVM"
   ]
  },
  {
   "cell_type": "markdown",
   "metadata": {},
   "source": [
    "### (a) Choice of Kernels"
   ]
  },
  {
   "cell_type": "markdown",
   "metadata": {},
   "source": [
    "Here we studies the behaviors of SVMs with nonlinear kernels."
   ]
  },
  {
   "cell_type": "markdown",
   "metadata": {},
   "source": [
    "#### Polynomial Kernels"
   ]
  },
  {
   "cell_type": "markdown",
   "metadata": {},
   "source": [
    "Here we study how does the performance of the model change against the degree of the polynomial kernel."
   ]
  },
  {
   "cell_type": "code",
   "execution_count": 464,
   "metadata": {},
   "outputs": [
    {
     "data": {
      "text/plain": [
       "SVC(C=1.0, cache_size=200, class_weight=None, coef0=0.0,\n",
       "    decision_function_shape='ovr', degree=100, gamma='scale', kernel='poly',\n",
       "    max_iter=-1, probability=False, random_state=None, shrinking=True,\n",
       "    tol=0.001, verbose=False)"
      ]
     },
     "execution_count": 464,
     "metadata": {},
     "output_type": "execute_result"
    }
   ],
   "source": [
    "ModelPoly2= svm.SVC(degree=2,gamma='scale',kernel='poly')\n",
    "ModelPoly2.fit(XTrain,YTrain)\n",
    "\n",
    "ModelPoly3= svm.SVC(degree=3,gamma='scale',kernel='poly')\n",
    "ModelPoly3.fit(XTrain,YTrain)\n",
    "\n",
    "ModelPoly4= svm.SVC(degree=4,gamma='scale',kernel='poly')\n",
    "ModelPoly4.fit(XTrain,YTrain)\n",
    "\n",
    "ModelPoly5= svm.SVC(degree=5,gamma='scale',kernel='poly')\n",
    "ModelPoly5.fit(XTrain,YTrain)\n",
    "\n",
    "ModelPoly100= svm.SVC(degree=100,gamma='scale',kernel='poly')\n",
    "ModelPoly100.fit(XTrain,YTrain)"
   ]
  },
  {
   "cell_type": "markdown",
   "metadata": {},
   "source": [
    "In the following graph, the performance of SVM model with different polynomial(including linear) kernels is plot against with their degree.\n",
    "\n",
    "The particular configurations of the graph rely on the division of training set and test set. Hence we tried different divisions, and some general patterns are observed:\n",
    "\n",
    "1. In most cases, the perforamce of linear model and quadratic model have a big gap (compare with other models).\n",
    "2. In most cases, the accuracy sequence of degree $n$ polynomial models is monotonic and converges."
   ]
  },
  {
   "cell_type": "code",
   "execution_count": 465,
   "metadata": {},
   "outputs": [
    {
     "data": {
      "text/plain": [
       "<matplotlib.legend.Legend at 0x1a273f2898>"
      ]
     },
     "execution_count": 465,
     "metadata": {},
     "output_type": "execute_result"
    },
    {
     "data": {
      "image/png": "[encoded data removed]",
      "text/plain": [
       "<Figure size 432x288 with 1 Axes>"
      ]
     },
     "metadata": {
      "needs_background": "light"
     },
     "output_type": "display_data"
    }
   ],
   "source": [
    "AMods=[Accuracy(XTest,YTest,ModelLinear),Accuracy(XTest,YTest,ModelPoly2),Accuracy(XTest,YTest,ModelPoly3),Accuracy(XTest,YTest,ModelPoly4),Accuracy(XTest,YTest,ModelPoly5),Accuracy(XTest,YTest,ModelPoly100)]\n",
    "PMods=[PPV(XTest,YTest,ModelLinear),PPV(XTest,YTest,ModelPoly2),PPV(XTest,YTest,ModelPoly3),PPV(XTest,YTest,ModelPoly4),PPV(XTest,YTest,ModelPoly5),PPV(XTest,YTest,ModelPoly100)]\n",
    "SMods=[Sens(XTest,YTest,ModelLinear),Sens(XTest,YTest,ModelPoly2),Sens(XTest,YTest,ModelPoly3),Sens(XTest,YTest,ModelPoly4),Sens(XTest,YTest,ModelPoly5),Sens(XTest,YTest,ModelPoly100)]\n",
    "LabRed=['1','2','3','4','5','100']\n",
    "plt.plot(LabRed,AMods,label='Accuracy')\n",
    "plt.plot(LabRed,PMods,label='Positive Predictive Value')\n",
    "plt.plot(LabRed,SMods,label='Sensitivity')\n",
    "plt.xlabel('Degree of Polynomial[n]')\n",
    "plt.ylabel('Ratio');\n",
    "plt.legend()"
   ]
  },
  {
   "cell_type": "markdown",
   "metadata": {},
   "source": [
    "#### Normalized Gaussian Kernels"
   ]
  },
  {
   "cell_type": "markdown",
   "metadata": {},
   "source": [
    "In the package we used, rbf kernel denote the Gaussian kernel without normalization.\n",
    "Here, we normalize it and only consider its performance under different standard deviations."
   ]
  },
  {
   "cell_type": "code",
   "execution_count": 466,
   "metadata": {},
   "outputs": [
    {
     "data": {
      "text/plain": [
       "SVC(C=1.8429974703058357e-101, cache_size=200, class_weight=None, coef0=0.0,\n",
       "    decision_function_shape='ovr', degree=3, gamma=100.0, kernel='rbf',\n",
       "    max_iter=-1, probability=False, random_state=None, shrinking=True,\n",
       "    tol=0.001, verbose=False)"
      ]
     },
     "execution_count": 466,
     "metadata": {},
     "output_type": "execute_result"
    }
   ],
   "source": [
    "sigma1=0.001\n",
    "c1=1/(np.sqrt(2*np.pi*sigma1)**72)\n",
    "ModelNormalized1= svm.SVC(C=c1,gamma=sigma1,kernel='rbf')\n",
    "ModelNormalized1.fit(XTrain,YTrain)\n",
    "\n",
    "sigma2=0.01\n",
    "c2=1/(np.sqrt(2*np.pi*sigma2)**72)\n",
    "ModelNormalized2= svm.SVC(C=c2,gamma=sigma2,kernel='rbf')\n",
    "ModelNormalized2.fit(XTrain,YTrain)\n",
    "\n",
    "sigma3=0.1\n",
    "c3=1/(np.sqrt(2*np.pi*sigma3)**72)\n",
    "ModelNormalized3= svm.SVC(C=c3,gamma=sigma3,kernel='rbf')\n",
    "ModelNormalized3.fit(XTrain,YTrain)\n",
    "\n",
    "sigma4=1.0\n",
    "c4=1/(np.sqrt(2*np.pi*sigma4)**72)\n",
    "ModelNormalized4= svm.SVC(C=c4,gamma=sigma4,kernel='rbf')\n",
    "ModelNormalized4.fit(XTrain,YTrain)\n",
    "\n",
    "sigma5=10.0\n",
    "c5=1/(np.sqrt(2*np.pi*sigma5)**72)\n",
    "ModelNormalized5= svm.SVC(C=c5,gamma=sigma5,kernel='rbf')\n",
    "ModelNormalized5.fit(XTrain,YTrain)\n",
    "\n",
    "sigma6=100.0\n",
    "c6=1/(np.sqrt(2*np.pi*sigma6)**72)\n",
    "ModelNormalized6= svm.SVC(C=c6,gamma=sigma6,kernel='rbf')\n",
    "ModelNormalized6.fit(XTrain,YTrain)"
   ]
  },
  {
   "cell_type": "markdown",
   "metadata": {},
   "source": [
    "In the following graph, the performance of SVM model with normalized Gaussian kernels is plot against with their standard deviations.\n",
    "\n",
    "The particular configurations of the graph rely on the division of training set and test set. Hence we tried different divisions, and some general patterns are observed:\n",
    "\n",
    "1. In most cases, there would be a gap between sd=0.1 and sd=1.\n",
    "2. In most cases, smaller standard value have better performance."
   ]
  },
  {
   "cell_type": "code",
   "execution_count": 467,
   "metadata": {},
   "outputs": [
    {
     "data": {
      "text/plain": [
       "<matplotlib.legend.Legend at 0x1a26792d68>"
      ]
     },
     "execution_count": 467,
     "metadata": {},
     "output_type": "execute_result"
    },
    {
     "data": {
      "image/png": "[encoded data removed]",
      "text/plain": [
       "<Figure size 432x288 with 1 Axes>"
      ]
     },
     "metadata": {
      "needs_background": "light"
     },
     "output_type": "display_data"
    }
   ],
   "source": [
    "AMods=[Accuracy(XTest,YTest,ModelNormalized1),Accuracy(XTest,YTest,ModelNormalized2),Accuracy(XTest,YTest,ModelNormalized3),Accuracy(XTest,YTest,ModelNormalized4),Accuracy(XTest,YTest,ModelNormalized5),Accuracy(XTest,YTest,ModelNormalized6)]\n",
    "PMods=[PPV(XTest,YTest,ModelNormalized1),PPV(XTest,YTest,ModelNormalized2),PPV(XTest,YTest,ModelNormalized3),PPV(XTest,YTest,ModelNormalized4),PPV(XTest,YTest,ModelNormalized5),PPV(XTest,YTest,ModelNormalized6)]\n",
    "SMods=[Sens(XTest,YTest,ModelNormalized1),Sens(XTest,YTest,ModelNormalized2),Sens(XTest,YTest,ModelNormalized3),Sens(XTest,YTest,ModelNormalized4),Sens(XTest,YTest,ModelNormalized5),Sens(XTest,YTest,ModelNormalized6)]\n",
    "LabRed=['0.001','0.01','0.1','1','10','100']\n",
    "plt.plot(LabRed,AMods,label='Accuracy')\n",
    "plt.plot(LabRed,PMods,label='Positive Predictive Value')\n",
    "plt.plot(LabRed,SMods,label='Sensitivity')\n",
    "plt.xlabel('Standard Deviation')\n",
    "plt.ylabel('Ratio');\n",
    "plt.legend()"
   ]
  },
  {
   "cell_type": "markdown",
   "metadata": {},
   "source": [
    "#### Compare Polynomial, Gaussian and Sigmoid Kernel"
   ]
  },
  {
   "cell_type": "code",
   "execution_count": 468,
   "metadata": {},
   "outputs": [
    {
     "data": {
      "text/plain": [
       "SVC(C=1.0, cache_size=200, class_weight=None, coef0=0.0,\n",
       "    decision_function_shape='ovr', degree=3, gamma='scale', kernel='rbf',\n",
       "    max_iter=-1, probability=False, random_state=None, shrinking=True,\n",
       "    tol=0.001, verbose=False)"
      ]
     },
     "execution_count": 468,
     "metadata": {},
     "output_type": "execute_result"
    }
   ],
   "source": [
    "ModelSig= svm.SVC(gamma='scale',kernel='sigmoid')\n",
    "ModelSig.fit(XTrain,YTrain)\n",
    "\n",
    "ModelGauss= svm.SVC(gamma='scale',kernel='rbf')\n",
    "ModelGauss.fit(XTrain,YTrain)"
   ]
  },
  {
   "cell_type": "markdown",
   "metadata": {},
   "source": [
    "For Golub dataset, we can observe that:\n",
    "1. Linear kernel always have a high accuracy\n",
    "2. Normalized Gaussian kernel have a high accuracy (sometimes higher than linear kernel) for sdandard deviation smaller than 0.1.\n",
    "3. Polynomial Kernels sometimes could have a high accuracy, but with very high degree, which implies overfit.\n",
    "4. In general, linear kernels have higher accuracy than polynomial kernels with small $n$ (i.e., the degree of the polynomial).\n",
    "5. Sigmoid Kernel have very low accuracy in most cases."
   ]
  },
  {
   "cell_type": "code",
   "execution_count": 469,
   "metadata": {},
   "outputs": [
    {
     "data": {
      "text/plain": [
       "<matplotlib.legend.Legend at 0x1a267fabe0>"
      ]
     },
     "execution_count": 469,
     "metadata": {},
     "output_type": "execute_result"
    },
    {
     "data": {
      "image/png": "[encoded data removed]",
      "text/plain": [
       "<Figure size 432x288 with 1 Axes>"
      ]
     },
     "metadata": {
      "needs_background": "light"
     },
     "output_type": "display_data"
    }
   ],
   "source": [
    "AMods=[Accuracy(XTest,YTest,ModelLinear),Accuracy(XTest,YTest,ModelPoly100),Accuracy(XTest,YTest,ModelNormalized1),Accuracy(XTest,YTest,ModelGauss),Accuracy(XTest,YTest,ModelSig)]\n",
    "PMods=[PPV(XTest,YTest,ModelLinear),PPV(XTest,YTest,ModelPoly100),PPV(XTest,YTest,ModelNormalized1),PPV(XTest,YTest,ModelGauss),PPV(XTest,YTest,ModelSig)]\n",
    "SMods=[Sens(XTest,YTest,ModelLinear),Sens(XTest,YTest,ModelPoly100),Sens(XTest,YTest,ModelNormalized1),Sens(XTest,YTest,ModelGauss),Sens(XTest,YTest,ModelNormalized5)]\n",
    "LabRed=['Linear','Polynomial','Normalized','Gaussian','Sigmoid']\n",
    "plt.plot(LabRed,AMods,label='Accuracy')\n",
    "plt.plot(LabRed,PMods,label='Positive Predictive Value')\n",
    "plt.plot(LabRed,SMods,label='Sensitivity')\n",
    "plt.xlabel('Kernels')\n",
    "plt.ylabel('Ratio');\n",
    "plt.legend()"
   ]
  },
  {
   "cell_type": "markdown",
   "metadata": {},
   "source": [
    "### (b) Dimension reduction"
   ]
  },
  {
   "cell_type": "markdown",
   "metadata": {},
   "source": [
    "Since our trained model is depend on the particular division of the training set and test set. In this section, we will keep this division fixed, and reduce the dimension of data with respect with the particular SVM model we trained under the fixed division."
   ]
  },
  {
   "cell_type": "markdown",
   "metadata": {},
   "source": [
    "#### Original Model"
   ]
  },
  {
   "cell_type": "markdown",
   "metadata": {},
   "source": [
    "The following model is the SVM with linear kernel and pennalty $C=1.0$, and is trained under the data set without dimension reduction and a fixed training-test division $36:36$."
   ]
  },
  {
   "cell_type": "code",
   "execution_count": 470,
   "metadata": {},
   "outputs": [
    {
     "data": {
      "text/plain": [
       "SVC(C=1.0, cache_size=200, class_weight=None, coef0=0.0,\n",
       "    decision_function_shape='ovr', degree=3, gamma='auto_deprecated',\n",
       "    kernel='linear', max_iter=-1, probability=False, random_state=None,\n",
       "    shrinking=True, tol=0.001, verbose=False)"
      ]
     },
     "execution_count": 470,
     "metadata": {},
     "output_type": "execute_result"
    }
   ],
   "source": [
    "ModelLine= svm.SVC(kernel='linear')\n",
    "ModelLine.fit(XTrain,YTrain)"
   ]
  },
  {
   "cell_type": "code",
   "execution_count": 471,
   "metadata": {},
   "outputs": [
    {
     "data": {
      "text/plain": [
       "0.75"
      ]
     },
     "execution_count": 471,
     "metadata": {},
     "output_type": "execute_result"
    }
   ],
   "source": [
    "Accuracy(XTest,YTest,ModelLine)"
   ]
  },
  {
   "cell_type": "code",
   "execution_count": 472,
   "metadata": {},
   "outputs": [
    {
     "data": {
      "text/plain": [
       "0.8695652173913043"
      ]
     },
     "execution_count": 472,
     "metadata": {},
     "output_type": "execute_result"
    }
   ],
   "source": [
    "PPV(XTest,YTest,ModelLine)"
   ]
  },
  {
   "cell_type": "markdown",
   "metadata": {},
   "source": [
    "#### Reduce the Dimension of Data"
   ]
  },
  {
   "cell_type": "markdown",
   "metadata": {},
   "source": [
    "In order to reduce the dimensional "
   ]
  },
  {
   "cell_type": "code",
   "execution_count": 473,
   "metadata": {},
   "outputs": [],
   "source": [
    "def Sort(Score):\n",
    "    return np.argsort(-np.abs(Score))\n",
    "\n",
    "def DimRed(Score,k,X):\n",
    "    (M,N) = np.shape(X)\n",
    "    Index=Sort(Score)[:k] # Find the most significant k features.\n",
    "    XRedT=np.zeros((k,M))\n",
    "    for n in np.arange(k):\n",
    "        XRedT[n]=XRedT[n]+np.transpose(X)[Index[n]]\n",
    "    XRed=np.transpose(XRedT)\n",
    "    return XRed"
   ]
  },
  {
   "cell_type": "code",
   "execution_count": 474,
   "metadata": {},
   "outputs": [],
   "source": [
    "XRedTr3=DimRed(ModelLine.coef_[0],1000,XTrain)\n",
    "YRedTr3=YTrain\n",
    "XRedTe3=DimRed(ModelLine.coef_[0],1000,XTest)\n",
    "YRedTe3=YTest\n",
    "\n",
    "XRedTr2=DimRed(ModelLine.coef_[0],100,XTrain)\n",
    "YRedTr2=YTrain\n",
    "XRedTe2=DimRed(ModelLine.coef_[0],100,XTest)\n",
    "YRedTe2=YTest\n",
    "\n",
    "XRedTr1=DimRed(ModelLine.coef_[0],10,XTrain)\n",
    "YRedTr1=YTrain\n",
    "XRedTe1=DimRed(ModelLine.coef_[0],10,XTest)\n",
    "YRedTe1=YTest\n",
    "\n",
    "XRedTr0=DimRed(ModelLine.coef_[0],1,XTrain)\n",
    "YRedTr0=YTrain\n",
    "XRedTe0=DimRed(ModelLine.coef_[0],1,XTest)\n",
    "YRedTe0=YTest"
   ]
  },
  {
   "cell_type": "markdown",
   "metadata": {},
   "source": [
    "#### Train the Models"
   ]
  },
  {
   "cell_type": "code",
   "execution_count": 475,
   "metadata": {},
   "outputs": [
    {
     "data": {
      "text/plain": [
       "SVC(C=1.0, cache_size=200, class_weight=None, coef0=0.0,\n",
       "    decision_function_shape='ovr', degree=3, gamma='auto_deprecated',\n",
       "    kernel='linear', max_iter=-1, probability=False, random_state=None,\n",
       "    shrinking=True, tol=0.001, verbose=False)"
      ]
     },
     "execution_count": 475,
     "metadata": {},
     "output_type": "execute_result"
    }
   ],
   "source": [
    "ModelLineRed3= svm.SVC(kernel='linear')\n",
    "ModelLineRed3.fit(XRedTr3,YRedTr3)\n",
    "\n",
    "ModelLineRed2= svm.SVC(kernel='linear')\n",
    "ModelLineRed2.fit(XRedTr2,YRedTr2)\n",
    "\n",
    "ModelLineRed1= svm.SVC(kernel='linear')\n",
    "ModelLineRed1.fit(XRedTr1,YRedTr1)\n",
    "\n",
    "ModelLineRed0= svm.SVC(kernel='linear')\n",
    "ModelLineRed0.fit(XRedTr0,YRedTr0)"
   ]
  },
  {
   "cell_type": "markdown",
   "metadata": {},
   "source": [
    "#### Test the Models"
   ]
  },
  {
   "cell_type": "markdown",
   "metadata": {},
   "source": [
    "#### Compare the Performance of each model with respect to the features they used."
   ]
  },
  {
   "cell_type": "markdown",
   "metadata": {},
   "source": [
    "In the following graph, the performance of SVM model with linear kernels is plot against with the number of top features it takes. \n",
    "\n",
    "The particular configurations of the graph rely on the division of training set and test set. Hence we tried different divisions, and some general patterns are observed:\n",
    "\n",
    "1. In most cases, the model with top 1000 features and the original model(7192 features) have the same or very similar performance.\n",
    "3. In general, the relationship between number of features and accuracy is not monotonic.\n",
    "2. In particular, model trained with less features could have even better performance then original model(7192 features)."
   ]
  },
  {
   "cell_type": "code",
   "execution_count": 476,
   "metadata": {},
   "outputs": [
    {
     "data": {
      "text/plain": [
       "<matplotlib.legend.Legend at 0x1a26875a90>"
      ]
     },
     "execution_count": 476,
     "metadata": {},
     "output_type": "execute_result"
    },
    {
     "data": {
      "image/png": "[encoded data removed]",
      "text/plain": [
       "<Figure size 432x288 with 1 Axes>"
      ]
     },
     "metadata": {
      "needs_background": "light"
     },
     "output_type": "display_data"
    }
   ],
   "source": [
    "ARed=[Accuracy(XRedTe0,YRedTe0,ModelLineRed0),Accuracy(XRedTe1,YRedTe1,ModelLineRed1),Accuracy(XRedTe2,YRedTe2,ModelLineRed2),Accuracy(XRedTe3,YRedTe3,ModelLineRed3),Accuracy(XTest,YTest,ModelLine)]\n",
    "PRed=[PPV(XRedTe0,YRedTe0,ModelLineRed0),PPV(XRedTe1,YRedTe1,ModelLineRed1),PPV(XRedTe2,YRedTe2,ModelLineRed2),PPV(XRedTe3,YRedTe3,ModelLineRed3),PPV(XTest,YTest,ModelLine)]\n",
    "SRed=[Sens(XRedTe0,YRedTe0,ModelLineRed0),Sens(XRedTe1,YRedTe1,ModelLineRed1),Sens(XRedTe2,YRedTe2,ModelLineRed2),Sens(XRedTe3,YRedTe3,ModelLineRed3),Sens(XTest,YTest,ModelLine)]\n",
    "LabRed=['n=1','n=10','n=100','n=1000','n=7192']\n",
    "plt.plot(LabRed,ARed,label='Accuracy')\n",
    "plt.plot(LabRed,PRed,label='Positive Predictive Value')\n",
    "plt.plot(LabRed,SRed,label='Sensitivity')\n",
    "plt.xlabel('Number of Features[n]')\n",
    "plt.ylabel('Ratio');\n",
    "plt.legend(title='Performance in terms of')"
   ]
  },
  {
   "cell_type": "markdown",
   "metadata": {},
   "source": [
    "### (c) Dimension Reduction with Fisher criterion score"
   ]
  },
  {
   "cell_type": "markdown",
   "metadata": {},
   "source": [
    "The *Fisher criterion score* of a gene $g_j$ is given by:\n",
    "$$\n",
    "F(g_j)=\\frac{(\\mu_j^+-\\mu_j^-)^2}{(\\sigma_j^+)^2+(\\sigma_j^-)^2}\n",
    "$$\n",
    "for $\\mu_j^\\pm$ the mean score of the features in class $y_j=\\pm$, and $\\sigma_j^\\pm$ the standard deviation of features in class $y_j=\\pm$."
   ]
  },
  {
   "cell_type": "code",
   "execution_count": 477,
   "metadata": {},
   "outputs": [],
   "source": [
    "def mu(X,Y,a):\n",
    "    (M,N) = np.shape(X)\n",
    "    Sx=np.zeros(N)\n",
    "    Nx=0\n",
    "    for m in np.arange(M):\n",
    "        if Y[m]==a:\n",
    "            Sx=Sx+X[m]\n",
    "            Nx=Nx+1\n",
    "    return Sx/Nx\n",
    "\n",
    "def sigma(X,Y,a):\n",
    "    return np.sqrt(mu((X-mu(X,Y,a))**2,Y,a))\n",
    "\n",
    "def Fisher(X,Y):\n",
    "    return (mu(X,Y,1)-mu(X,Y,-1))**2/((sigma(X,Y,1)**2)+(sigma(X,Y,-1)**2))"
   ]
  },
  {
   "cell_type": "code",
   "execution_count": 478,
   "metadata": {},
   "outputs": [],
   "source": [
    "XRedFTr3=DimRed(Fisher(XTrain,YTrain),1000,XTrain)\n",
    "YRedFTr3=YTrain\n",
    "XRedFTe3=DimRed(Fisher(XTrain,YTrain),1000,XTest)\n",
    "YRedFTe3=YTest\n",
    "\n",
    "XRedFTr2=DimRed(Fisher(XTrain,YTrain),100,XTrain)\n",
    "YRedFTr2=YTrain\n",
    "XRedFTe2=DimRed(Fisher(XTrain,YTrain),100,XTest)\n",
    "YRedFTe2=YTest\n",
    "\n",
    "XRedFTr1=DimRed(Fisher(XTrain,YTrain),10,XTrain)\n",
    "YRedFTr1=YTrain\n",
    "XRedFTe1=DimRed(Fisher(XTrain,YTrain),10,XTest)\n",
    "YRedFTe1=YTest\n",
    "\n",
    "XRedFTr0=DimRed(Fisher(XTrain,YTrain),1,XTrain)\n",
    "YRedFTr0=YTrain\n",
    "XRedFTe0=DimRed(Fisher(XTrain,YTrain),1,XTest)\n",
    "YRedFTe0=YTest"
   ]
  },
  {
   "cell_type": "markdown",
   "metadata": {},
   "source": [
    "**SVM**"
   ]
  },
  {
   "cell_type": "code",
   "execution_count": 479,
   "metadata": {},
   "outputs": [
    {
     "data": {
      "text/plain": [
       "SVC(C=1.0, cache_size=200, class_weight=None, coef0=0.0,\n",
       "    decision_function_shape='ovr', degree=3, gamma='auto_deprecated',\n",
       "    kernel='linear', max_iter=-1, probability=False, random_state=None,\n",
       "    shrinking=True, tol=0.001, verbose=False)"
      ]
     },
     "execution_count": 479,
     "metadata": {},
     "output_type": "execute_result"
    }
   ],
   "source": [
    "ModelLineRedF3= svm.SVC(kernel='linear')\n",
    "ModelLineRedF3.fit(XRedFTr3,YRedFTr3)\n",
    "\n",
    "ModelLineRedF2= svm.SVC(kernel='linear')\n",
    "ModelLineRedF2.fit(XRedFTr2,YRedFTr2)\n",
    "\n",
    "ModelLineRedF1= svm.SVC(kernel='linear')\n",
    "ModelLineRedF1.fit(XRedFTr1,YRedFTr1)\n",
    "\n",
    "ModelLineRedF0= svm.SVC(kernel='linear')\n",
    "ModelLineRedF0.fit(XRedFTr0,YRedFTr0)"
   ]
  },
  {
   "cell_type": "code",
   "execution_count": 480,
   "metadata": {},
   "outputs": [
    {
     "data": {
      "text/plain": [
       "<matplotlib.legend.Legend at 0x1a27429f28>"
      ]
     },
     "execution_count": 480,
     "metadata": {},
     "output_type": "execute_result"
    },
    {
     "data": {
      "image/png": "[encoded data removed]",
      "text/plain": [
       "<Figure size 432x288 with 1 Axes>"
      ]
     },
     "metadata": {
      "needs_background": "light"
     },
     "output_type": "display_data"
    }
   ],
   "source": [
    "ARed=[Accuracy(XRedFTe0,YRedFTe0,ModelLineRedF0),Accuracy(XRedFTe1,YRedFTe1,ModelLineRedF1),Accuracy(XRedFTe2,YRedFTe2,ModelLineRedF2),Accuracy(XRedFTe3,YRedFTe3,ModelLineRedF3),Accuracy(XTest,YTest,ModelLine)]\n",
    "PRed=[PPV(XRedFTe0,YRedFTe0,ModelLineRedF0),PPV(XRedFTe1,YRedFTe1,ModelLineRedF1),PPV(XRedFTe2,YRedFTe2,ModelLineRedF2),PPV(XRedFTe3,YRedFTe3,ModelLineRedF3),PPV(XTest,YTest,ModelLine)]\n",
    "SRed=[Sens(XRedFTe0,YRedFTe0,ModelLineRedF0),Sens(XRedFTe1,YRedFTe1,ModelLineRedF1),Sens(XRedFTe2,YRedFTe2,ModelLineRedF2),Sens(XRedFTe3,YRedFTe3,ModelLineRedF3),Sens(XTest,YTest,ModelLine)]\n",
    "LabRed=['n=1','n=10','n=100','n=1000','n=7192']\n",
    "plt.plot(LabRed,ARed,label='Accuracy')\n",
    "plt.plot(LabRed,PRed,label='Positive Predictive Value')\n",
    "plt.plot(LabRed,SRed,label='Sensitivity')\n",
    "plt.xlabel('Number of Features[n]')\n",
    "plt.ylabel('Ratio');\n",
    "plt.legend(title='Performance in terms of')"
   ]
  },
  {
   "cell_type": "markdown",
   "metadata": {},
   "source": [
    "**$k$NN**"
   ]
  },
  {
   "cell_type": "code",
   "execution_count": 481,
   "metadata": {},
   "outputs": [
    {
     "data": {
      "text/plain": [
       "SVC(C=1.0, cache_size=200, class_weight=None, coef0=0.0,\n",
       "    decision_function_shape='ovr', degree=3, gamma='auto_deprecated',\n",
       "    kernel='linear', max_iter=-1, probability=False, random_state=None,\n",
       "    shrinking=True, tol=0.001, verbose=False)"
      ]
     },
     "execution_count": 481,
     "metadata": {},
     "output_type": "execute_result"
    }
   ],
   "source": [
    "ModelLineRedF3= svm.SVC(kernel='linear')\n",
    "ModelLineRedF3.fit(XRedFTr3,YRedFTr3)\n",
    "\n",
    "ModelLineRedF2= svm.SVC(kernel='linear')\n",
    "ModelLineRedF2.fit(XRedFTr2,YRedFTr2)\n",
    "\n",
    "ModelLineRedF1= svm.SVC(kernel='linear')\n",
    "ModelLineRedF1.fit(XRedFTr1,YRedFTr1)\n",
    "\n",
    "ModelLineRedF0= svm.SVC(kernel='linear')\n",
    "ModelLineRedF0.fit(XRedFTr0,YRedFTr0)"
   ]
  },
  {
   "cell_type": "markdown",
   "metadata": {},
   "source": [
    "### (d) Other Kernels"
   ]
  },
  {
   "cell_type": "markdown",
   "metadata": {},
   "source": [
    "We've already tried and discussed the choices of kernels, see part (b)."
   ]
  },
  {
   "cell_type": "markdown",
   "metadata": {},
   "source": [
    "### (e) Normalize the Features"
   ]
  },
  {
   "cell_type": "markdown",
   "metadata": {},
   "source": [
    "Now, we apply a method that normalize each feature vector to length one in Euclidean norm. However, compared with the naive normalization done by \"X/1000\", this normalization does not give a better performance in both SVM and $k$NN."
   ]
  },
  {
   "cell_type": "code",
   "execution_count": 482,
   "metadata": {},
   "outputs": [],
   "source": [
    "def Normal(X):\n",
    "    (M,N)=np.shape(X)\n",
    "    NX=np.zeros((M,N))\n",
    "    for m in np.arange(M):\n",
    "        NX[m]=NX[m]+X[m]/np.linalg.norm(X[m],2)\n",
    "    return NX"
   ]
  },
  {
   "cell_type": "markdown",
   "metadata": {},
   "source": [
    "**SVM**"
   ]
  },
  {
   "cell_type": "code",
   "execution_count": 498,
   "metadata": {},
   "outputs": [
    {
     "data": {
      "text/plain": [
       "SVC(C=1.0, cache_size=200, class_weight=None, coef0=0.0,\n",
       "    decision_function_shape='ovr', degree=3, gamma='auto_deprecated',\n",
       "    kernel='linear', max_iter=-1, probability=False, random_state=None,\n",
       "    shrinking=True, tol=0.001, verbose=False)"
      ]
     },
     "execution_count": 498,
     "metadata": {},
     "output_type": "execute_result"
    }
   ],
   "source": [
    "NModelLine= svm.SVC(kernel='linear')\n",
    "NModelLine.fit(Normal(XTrain),YTrain)"
   ]
  },
  {
   "cell_type": "code",
   "execution_count": 499,
   "metadata": {},
   "outputs": [
    {
     "data": {
      "text/plain": [
       "0.7222222222222222"
      ]
     },
     "execution_count": 499,
     "metadata": {},
     "output_type": "execute_result"
    }
   ],
   "source": [
    "Accuracy(Normal(XTest),YTest,NModelLine)"
   ]
  },
  {
   "cell_type": "code",
   "execution_count": 500,
   "metadata": {},
   "outputs": [
    {
     "data": {
      "text/plain": [
       "0.7777777777777778"
      ]
     },
     "execution_count": 500,
     "metadata": {},
     "output_type": "execute_result"
    }
   ],
   "source": [
    "Accuracy(XTest,YTest,NModelLine)"
   ]
  },
  {
   "cell_type": "code",
   "execution_count": 501,
   "metadata": {},
   "outputs": [
    {
     "data": {
      "text/plain": [
       "0.75"
      ]
     },
     "execution_count": 501,
     "metadata": {},
     "output_type": "execute_result"
    }
   ],
   "source": [
    "Accuracy(XTest,YTest,ModelLine)"
   ]
  },
  {
   "cell_type": "markdown",
   "metadata": {},
   "source": [
    "**$k$NN**"
   ]
  },
  {
   "cell_type": "code",
   "execution_count": 502,
   "metadata": {},
   "outputs": [
    {
     "data": {
      "text/plain": [
       "KNeighborsClassifier(algorithm='auto', leaf_size=30, metric='minkowski',\n",
       "                     metric_params=None, n_jobs=None, n_neighbors=1, p=2,\n",
       "                     weights='uniform')"
      ]
     },
     "execution_count": 502,
     "metadata": {},
     "output_type": "execute_result"
    }
   ],
   "source": [
    "NkNN1=KNeighborsClassifier(n_neighbors=1)\n",
    "NkNN1.fit(Normal(XTrain),YTrain)"
   ]
  },
  {
   "cell_type": "code",
   "execution_count": 503,
   "metadata": {},
   "outputs": [
    {
     "data": {
      "text/plain": [
       "0.7777777777777778"
      ]
     },
     "execution_count": 503,
     "metadata": {},
     "output_type": "execute_result"
    }
   ],
   "source": [
    "Accuracy(Normal(XTest),YTest,NkNN1)"
   ]
  },
  {
   "cell_type": "code",
   "execution_count": 504,
   "metadata": {},
   "outputs": [
    {
     "data": {
      "text/plain": [
       "0.7777777777777778"
      ]
     },
     "execution_count": 504,
     "metadata": {},
     "output_type": "execute_result"
    }
   ],
   "source": [
    "Accuracy(XTest,YTest,NkNN1)"
   ]
  },
  {
   "cell_type": "code",
   "execution_count": 505,
   "metadata": {},
   "outputs": [
    {
     "data": {
      "text/plain": [
       "0.8055555555555556"
      ]
     },
     "execution_count": 505,
     "metadata": {},
     "output_type": "execute_result"
    }
   ],
   "source": [
    "Accuracy(XTest,YTest,kNN1)"
   ]
  },
  {
   "cell_type": "markdown",
   "metadata": {},
   "source": [
    "### (f) Confusion Matrix"
   ]
  },
  {
   "cell_type": "markdown",
   "metadata": {},
   "source": [
    "**SVM**"
   ]
  },
  {
   "cell_type": "code",
   "execution_count": 506,
   "metadata": {},
   "outputs": [
    {
     "data": {
      "text/plain": [
       "array([[20,  3],\n",
       "       [ 7,  6]])"
      ]
     },
     "execution_count": 506,
     "metadata": {},
     "output_type": "execute_result"
    }
   ],
   "source": [
    "CfM(XTest,YTest,ModelLine)"
   ]
  },
  {
   "cell_type": "code",
   "execution_count": 507,
   "metadata": {},
   "outputs": [
    {
     "data": {
      "text/plain": [
       "array([[25,  5],\n",
       "       [ 5,  1]])"
      ]
     },
     "execution_count": 507,
     "metadata": {},
     "output_type": "execute_result"
    }
   ],
   "source": [
    "CfM(XTest,YTest,ModelPoly4)"
   ]
  },
  {
   "cell_type": "code",
   "execution_count": 508,
   "metadata": {},
   "outputs": [
    {
     "data": {
      "text/plain": [
       "array([[24,  5],\n",
       "       [ 5,  2]])"
      ]
     },
     "execution_count": 508,
     "metadata": {},
     "output_type": "execute_result"
    }
   ],
   "source": [
    "CfM(XTest,YTest,ModelNormalized1)"
   ]
  },
  {
   "cell_type": "markdown",
   "metadata": {},
   "source": [
    "**$k$NN**"
   ]
  },
  {
   "cell_type": "code",
   "execution_count": 509,
   "metadata": {},
   "outputs": [
    {
     "data": {
      "text/plain": [
       "array([[22,  3],\n",
       "       [ 7,  4]])"
      ]
     },
     "execution_count": 509,
     "metadata": {},
     "output_type": "execute_result"
    }
   ],
   "source": [
    "CfM(XTest,YTest,kNN1)"
   ]
  },
  {
   "cell_type": "code",
   "execution_count": 510,
   "metadata": {},
   "outputs": [
    {
     "data": {
      "text/plain": [
       "array([[24,  6],\n",
       "       [ 4,  2]])"
      ]
     },
     "execution_count": 510,
     "metadata": {},
     "output_type": "execute_result"
    }
   ],
   "source": [
    "CfM(XTest,YTest,kNN5)"
   ]
  },
  {
   "cell_type": "code",
   "execution_count": 511,
   "metadata": {},
   "outputs": [
    {
     "data": {
      "text/plain": [
       "array([[26, 10],\n",
       "       [ 0,  0]])"
      ]
     },
     "execution_count": 511,
     "metadata": {},
     "output_type": "execute_result"
    }
   ],
   "source": [
    "CfM(XTest,YTest,kNN10)"
   ]
  },
  {
   "cell_type": "markdown",
   "metadata": {},
   "source": [
    "### (g) ROC Curve for SVM"
   ]
  },
  {
   "cell_type": "code",
   "execution_count": 338,
   "metadata": {},
   "outputs": [],
   "source": [
    "def TPR_SVM(Model,X,Y,b):\n",
    "    Model.intercept_=b\n",
    "    TP=CfM(X,Y,Model)[(0,0)]\n",
    "    FN=CfM(X,Y,Model)[(1,1)]\n",
    "    return TP/(TP+FN)\n",
    "\n",
    "def FPR_SVM(Model,X,Y,b):\n",
    "    Model.intercept_=b\n",
    "    FP=CfM(X,Y,Model)[(0,1)]\n",
    "    TN=CfM(X,Y,Model)[(1,0)]\n",
    "    return FP/(FP+TN)\n",
    "\n",
    "def roc_SVM(Model,X,Y,Timestep):\n",
    "    n=np.size(Timestep)\n",
    "    roc=np.zeros((n,2))\n",
    "    for t in np.arange(n):\n",
    "        roc[t]=roc[t]+[TPR(Model,X,Y,Timestep[t]),FPR(Model,X,Y,Timestep[t])]\n",
    "    return roc\n",
    "\n",
    "def roc_score(roc):\n",
    "    (M,N)=np.shape(roc)\n",
    "    rocL\n",
    "    score=0\n",
    "    for m in np.arange(M-1):\n",
    "        score=score+(roc[(m+1,0)]+roc[(m,0)])*(roc[(m+1,1)]-roc[(m,1)])/2\n",
    "    return score"
   ]
  },
  {
   "cell_type": "code",
   "execution_count": 323,
   "metadata": {},
   "outputs": [
    {
     "data": {
      "text/plain": [
       "LinearSVC(C=0.5, class_weight=None, dual=True, fit_intercept=True,\n",
       "          intercept_scaling=1, loss='squared_hinge', max_iter=1000,\n",
       "          multi_class='ovr', penalty='l2', random_state=None, tol=0.1,\n",
       "          verbose=0)"
      ]
     },
     "execution_count": 323,
     "metadata": {},
     "output_type": "execute_result"
    }
   ],
   "source": [
    "ModelL=svm.LinearSVC(tol=0.1,C=0.5,fit_intercept=True)\n",
    "ModelL.fit(XTrain,YTrain)"
   ]
  },
  {
   "cell_type": "code",
   "execution_count": 339,
   "metadata": {},
   "outputs": [],
   "source": [
    "timestep = (np.arange(400)-200)/100\n",
    "rocL=roc_SVM(ModelL,XTest,YTest,timestep)"
   ]
  },
  {
   "cell_type": "code",
   "execution_count": 340,
   "metadata": {},
   "outputs": [
    {
     "data": {
      "text/plain": [
       "<matplotlib.legend.Legend at 0x1a2a9d60f0>"
      ]
     },
     "execution_count": 340,
     "metadata": {},
     "output_type": "execute_result"
    },
    {
     "data": {
      "image/png": "[encoded data removed]",
      "text/plain": [
       "<Figure size 432x288 with 1 Axes>"
      ]
     },
     "metadata": {
      "needs_background": "light"
     },
     "output_type": "display_data"
    }
   ],
   "source": [
    "plt.plot(np.transpose(rocL)[1],np.transpose(rocL)[0],label='Linear SVM')\n",
    "plt.xlabel('False Positive Rate');\n",
    "plt.ylabel('True Positive Rate');\n",
    "plt.legend()"
   ]
  },
  {
   "cell_type": "code",
   "execution_count": 341,
   "metadata": {},
   "outputs": [
    {
     "data": {
      "text/plain": [
       "0.525974025974026"
      ]
     },
     "execution_count": 341,
     "metadata": {},
     "output_type": "execute_result"
    }
   ],
   "source": [
    "roc_score(rocL)"
   ]
  },
  {
   "cell_type": "code",
   "execution_count": 497,
   "metadata": {},
   "outputs": [
    {
     "data": {
      "text/plain": [
       "0.8529411764705882"
      ]
     },
     "execution_count": 497,
     "metadata": {},
     "output_type": "execute_result"
    }
   ],
   "source": [
    "29/34"
   ]
  },
  {
   "cell_type": "markdown",
   "metadata": {},
   "source": [
    "### (h) Conclusion for SVM"
   ]
  },
  {
   "cell_type": "markdown",
   "metadata": {},
   "source": [
    "**Choice of Kernel**\n",
    "In the experiments above, we can see that linear, polynomial and normalized Gaussian kernels have relatively good performance on Golub dataset, while sigmoid always have a poor performance. In different initialization of the training and test sets, the kernels have very different performance. In most case, linear kernel and normalized Gaussian kernel have good performance in terms of accuracy and positive predictive value. But the performance of polynomial kernel is tricky, sometimes it may give very low test accuracy, which may be considered as an overfitting.\n",
    "\n",
    "**Feature Elimination**\n",
    "There are 7129 features in Golub dataset in total. In our experiments, either by norm of the vectors that span the hyperplane or the Fisher criterion score, reduce to 1000 features could give a very good performance. And reduce to 100 score may have an acceptable (but not very good) performance.\n",
    "\n",
    "**Compare with Golub's result**\n",
    "Golub et al claimes their prediction on test set of 34 data points is 100% accurate on 29 ones with 50 features. Here we may interprate it as 0.85 accuracy. In our test, we cannot always get such a high accuracy (normally near 0.8), and it could be a result of different ways in selecting key gene features in the analysis."
   ]
  },
  {
   "cell_type": "markdown",
   "metadata": {},
   "source": [
    "### (i) Distance measure in $k$NN"
   ]
  },
  {
   "cell_type": "markdown",
   "metadata": {},
   "source": [
    "The metric type we used in the $k$ neighbours classifier is *Euclidean metric*, which is the default setting of the sklearn.\n",
    "\n",
    "The experiments of different $k$ and their performance are summarised in last part of 9.2."
   ]
  },
  {
   "cell_type": "markdown",
   "metadata": {},
   "source": [
    "### (j) ROC curve for $k$NN"
   ]
  },
  {
   "cell_type": "code",
   "execution_count": 375,
   "metadata": {},
   "outputs": [],
   "source": [
    "def TPR_kNN(Model,X,Y,k):\n",
    "    Model.n_neighbors=k\n",
    "    TP=CfM(X,Y,Model)[(0,0)]\n",
    "    FN=CfM(X,Y,Model)[(1,1)]\n",
    "    return TP/(TP+FN)\n",
    "\n",
    "def FPR_kNN(Model,X,Y,k):\n",
    "    Model.n_neighbors=k\n",
    "    FP=CfM(X,Y,Model)[(0,1)]\n",
    "    TN=CfM(X,Y,Model)[(1,0)]\n",
    "    return FP/(FP+TN)\n",
    "\n",
    "def roc_kNN(Model,X,Y,Timestep):\n",
    "    n=np.size(Timestep)\n",
    "    roc=np.zeros((n,2))\n",
    "    for t in np.arange(n):\n",
    "        roc[t]=roc[t]+[TPR_kNN(Model,X,Y,Timestep[t]),FPR_kNN(Model,X,Y,Timestep[t])]\n",
    "    return roc"
   ]
  },
  {
   "cell_type": "code",
   "execution_count": 446,
   "metadata": {},
   "outputs": [
    {
     "data": {
      "text/plain": [
       "KNeighborsClassifier(algorithm='auto', leaf_size=30, metric='minkowski',\n",
       "                     metric_params=None, n_jobs=None, n_neighbors=1, p=2,\n",
       "                     weights='uniform')"
      ]
     },
     "execution_count": 446,
     "metadata": {},
     "output_type": "execute_result"
    }
   ],
   "source": [
    "ModelK=KNeighborsClassifier(n_neighbors=1)\n",
    "ModelK.fit(XTrain,YTrain)"
   ]
  },
  {
   "cell_type": "code",
   "execution_count": 447,
   "metadata": {},
   "outputs": [],
   "source": [
    "timestep=np.arange(36)+1\n",
    "rocK=roc_kNN(ModelK,XTest,YTest,timestep)"
   ]
  },
  {
   "cell_type": "code",
   "execution_count": 448,
   "metadata": {},
   "outputs": [],
   "source": [
    "rocK.sort(axis=0)"
   ]
  },
  {
   "cell_type": "code",
   "execution_count": 449,
   "metadata": {
    "scrolled": true
   },
   "outputs": [
    {
     "data": {
      "text/plain": [
       "<matplotlib.legend.Legend at 0x1a2b253f60>"
      ]
     },
     "execution_count": 449,
     "metadata": {},
     "output_type": "execute_result"
    },
    {
     "data": {
      "image/png": "[encoded data removed]",
      "text/plain": [
       "<Figure size 432x288 with 1 Axes>"
      ]
     },
     "metadata": {
      "needs_background": "light"
     },
     "output_type": "display_data"
    }
   ],
   "source": [
    "plt.plot(np.transpose(rocK)[1],np.transpose(rocK)[0],label='kNN')\n",
    "plt.xlabel('False Positive Rate');\n",
    "plt.ylabel('True Positive Rate');\n",
    "plt.legend()"
   ]
  },
  {
   "cell_type": "code",
   "execution_count": 450,
   "metadata": {},
   "outputs": [
    {
     "data": {
      "text/plain": [
       "0.43993506493506496"
      ]
     },
     "execution_count": 450,
     "metadata": {},
     "output_type": "execute_result"
    }
   ],
   "source": [
    "roc_score(rocK)"
   ]
  }
 ],
 "metadata": {
  "kernelspec": {
   "display_name": "Python 3",
   "language": "python",
   "name": "python3"
  },
  "language_info": {
   "codemirror_mode": {
    "name": "ipython",
    "version": 3
   },
   "file_extension": ".py",
   "mimetype": "text/x-python",
   "name": "python",
   "nbconvert_exporter": "python",
   "pygments_lexer": "ipython3",
   "version": "3.7.6"
  }
 },
 "nbformat": 4,
 "nbformat_minor": 2
}
